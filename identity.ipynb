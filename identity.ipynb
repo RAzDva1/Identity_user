{
 "cells": [
  {
   "cell_type": "markdown",
   "metadata": {},
   "source": [
    "# <center> Отчет по выполненной работе в задаче идентификации интерне-пользователей"
   ]
  },
  {
   "cell_type": "markdown",
   "metadata": {},
   "source": [
    "### Цели и задачи проекта:\n",
    "В данном проекте решается задача идентификации пользователя по его поведению в сети Интернет. По последовательности из нескольких веб-сайтов, посещенных подряд одним и тем же человеком, происходит идентификация этого человека.\n",
    "\n",
    "Имеются данные с прокси-серверов Университета Блеза Паскаля, они имеют очень простой вид. Для каждого пользователя заведен csv-файл с названием user\\*\\*\\*\\*.csv (где вместо звездочек – 4 цифры, соответствующие ID пользователя), а в нем посещения сайтов записаны в следующем формате: <br>\n",
    "\n",
    "<center>*timestamp, посещенный веб-сайт*</center>\n",
    "\n",
    "Данные устроены следующем образом:\n",
    "\n",
    " - В каталоге 10users лежат 10 csv-файлов с названием вида \"user[USER_ID].csv\", где [USER_ID] – ID пользователя;\n",
    " - Аналогично для каталога 150users – там 150 файлов;\n",
    " - В каталоге 3users – игрушечный пример из 3 файлов, это для отладки кода предобработки, который Вы далее напишете."
   ]
  },
  {
   "cell_type": "markdown",
   "metadata": {},
   "source": [
    "Для начала подготовим данные для дальнейшего описательного анализа и построения прогнозных моделей."
   ]
  },
  {
   "cell_type": "code",
   "execution_count": 189,
   "metadata": {},
   "outputs": [],
   "source": [
    "from __future__ import division, print_function\n",
    "# отключим всякие предупреждения Anaconda\n",
    "import warnings\n",
    "warnings.filterwarnings('ignore')\n",
    "from glob import glob\n",
    "import os\n",
    "import pickle\n",
    "from tqdm import tqdm_notebook\n",
    "import numpy as np\n",
    "import pandas as pd\n",
    "from scipy.sparse import csr_matrix\n",
    "import time\n",
    "from tqdm import *\n",
    "import re\n",
    "from scipy import stats\n",
    "from statsmodels.stats.proportion import proportion_confint\n",
    "%matplotlib inline\n",
    "from matplotlib import pyplot as plt\n",
    "import seaborn as sns\n",
    "from datetime import timedelta\n",
    "from sklearn.metrics import accuracy_score, f1_score\n",
    "from sklearn.model_selection import train_test_split, cross_val_score, StratifiedKFold, GridSearchCV\n",
    "from sklearn.neighbors import KNeighborsClassifier\n",
    "from sklearn.ensemble import RandomForestClassifier\n",
    "from sklearn.linear_model import LogisticRegression, LogisticRegressionCV\n",
    "from sklearn.svm import LinearSVC\n",
    "import itertools\n",
    "from sklearn.model_selection import learning_curve"
   ]
  },
  {
   "cell_type": "code",
   "execution_count": 3,
   "metadata": {},
   "outputs": [],
   "source": [
    "PATH_TO_DATA = \"C:/Users/Raz/Kurs_ML/Final/Identif_Inet_user/capstone_user_identification/\""
   ]
  },
  {
   "cell_type": "markdown",
   "metadata": {},
   "source": [
    "**Посмотрим на один из файлов с данными о посещенных пользователем (номер 31) веб-страницах.**"
   ]
  },
  {
   "cell_type": "code",
   "execution_count": 4,
   "metadata": {},
   "outputs": [
    {
     "name": "stdout",
     "output_type": "stream",
     "text": [
      "(7600, 2)\n"
     ]
    },
    {
     "data": {
      "text/html": [
       "<div>\n",
       "<style scoped>\n",
       "    .dataframe tbody tr th:only-of-type {\n",
       "        vertical-align: middle;\n",
       "    }\n",
       "\n",
       "    .dataframe tbody tr th {\n",
       "        vertical-align: top;\n",
       "    }\n",
       "\n",
       "    .dataframe thead th {\n",
       "        text-align: right;\n",
       "    }\n",
       "</style>\n",
       "<table border=\"1\" class=\"dataframe\">\n",
       "  <thead>\n",
       "    <tr style=\"text-align: right;\">\n",
       "      <th></th>\n",
       "      <th>timestamp</th>\n",
       "      <th>site</th>\n",
       "    </tr>\n",
       "  </thead>\n",
       "  <tbody>\n",
       "    <tr>\n",
       "      <th>0</th>\n",
       "      <td>2013-11-15 08:12:07</td>\n",
       "      <td>fpdownload2.macromedia.com</td>\n",
       "    </tr>\n",
       "    <tr>\n",
       "      <th>1</th>\n",
       "      <td>2013-11-15 08:12:17</td>\n",
       "      <td>laposte.net</td>\n",
       "    </tr>\n",
       "    <tr>\n",
       "      <th>2</th>\n",
       "      <td>2013-11-15 08:12:17</td>\n",
       "      <td>www.laposte.net</td>\n",
       "    </tr>\n",
       "    <tr>\n",
       "      <th>3</th>\n",
       "      <td>2013-11-15 08:12:17</td>\n",
       "      <td>www.google.com</td>\n",
       "    </tr>\n",
       "    <tr>\n",
       "      <th>4</th>\n",
       "      <td>2013-11-15 08:12:18</td>\n",
       "      <td>www.laposte.net</td>\n",
       "    </tr>\n",
       "  </tbody>\n",
       "</table>\n",
       "</div>"
      ],
      "text/plain": [
       "             timestamp                        site\n",
       "0  2013-11-15 08:12:07  fpdownload2.macromedia.com\n",
       "1  2013-11-15 08:12:17                 laposte.net\n",
       "2  2013-11-15 08:12:17             www.laposte.net\n",
       "3  2013-11-15 08:12:17              www.google.com\n",
       "4  2013-11-15 08:12:18             www.laposte.net"
      ]
     },
     "execution_count": 4,
     "metadata": {},
     "output_type": "execute_result"
    }
   ],
   "source": [
    "user31_data = pd.read_csv(os.path.join(PATH_TO_DATA, r'10users/user0031.csv'))\n",
    "print(user31_data.shape)\n",
    "user31_data.head()"
   ]
  },
  {
   "cell_type": "markdown",
   "metadata": {},
   "source": [
    "## Подготовка обучающей выборки\n",
    "Реализуем функцию *prepare_train_set*, которая принимает на вход путь к каталогу с csv-файлами *path_to_csv_files* и параметр *session_length* – длину сессии(пока что 10), а возвращает 2 объекта:\n",
    "- DataFrame, в котором строки соответствуют уникальным сессиям из *session_length* сайтов, *session_length* столбцов – индексам этих *session_length* сайтов и последний столбец – ID пользователя\n",
    "- частотный словарь сайтов вида {'site_string': [site_id, site_freq]}"
   ]
  },
  {
   "cell_type": "code",
   "execution_count": 5,
   "metadata": {},
   "outputs": [],
   "source": [
    "def prepare_train_set(path_to_csv_files, session_length=10):\n",
    "    path_template = os.path.join(path_to_csv_files, os.path.normcase('user*.csv'))\n",
    "    # create list of path to files\n",
    "    csv_files = glob(path_template)# возвращение список (возможно, пустой) путей, соответствующих шаблону pathname.\n",
    "    csv_files.sort()\n",
    "    #print(csv_files)\n",
    "    # create list of DataFrames from csv_files\n",
    "    series = []\n",
    "    for file in tqdm_notebook(csv_files):\n",
    "        data = pd.read_csv(file)\n",
    "        series.append(data['site'])\n",
    "    # create 'frequency'\n",
    "    frequency_dataframe = series[0].append(series[1:]).value_counts()\n",
    "    frequency = {key: (index, frequency_dataframe[key]) for index, key\n",
    "                 in enumerate(frequency_dataframe.index, start=1)}\n",
    "    # get user_ids list\n",
    "    user_ids = [int(re.search('([1-9][0-9]*).csv$', path).group(1)) for path\n",
    "              in csv_files]\n",
    "    # list of site column's name\n",
    "    columns = ['site' + str(i) for i in range(1, session_length + 1)]\n",
    "    \n",
    "    features_list = []\n",
    "    for index, sites in tqdm_notebook(enumerate(series)):\n",
    "        # find features matrix size for each users\n",
    "        sites_number = sites.shape[0]\n",
    "        rows = sites_number // session_length if sites_number % session_length == 0 else sites_number // session_length + 1\n",
    "        length = rows * session_length\n",
    "        # create numpy vector for fatures\n",
    "        sessions = np.empty(length, dtype=int)\n",
    "        # add zeros if need\n",
    "        zeros = length - sites_number\n",
    "        if zeros > 0:\n",
    "            sessions[-zeros:] = 0\n",
    "        # encode names of sites\n",
    "        for i, site in enumerate(sites):\n",
    "            sessions[i] = frequency[site][0]\n",
    "        # combine feartures for each users\n",
    "        sessions = np.reshape(sessions, (rows, -1))\n",
    "        sessions_dataframe = pd.DataFrame(sessions, columns=columns)\n",
    "        sessions_dataframe['user_id'] = user_ids[index]\n",
    "        features_list.append(sessions_dataframe)\n",
    "    # get 'features\n",
    "    features = features_list[0].append(features_list[1:], ignore_index=True)\n",
    "    \n",
    "    return features, frequency"
   ]
  },
  {
   "cell_type": "markdown",
   "metadata": {},
   "source": [
    "Применим эту функцию к датасету из 3, 10 и 150 пользователей"
   ]
  },
  {
   "cell_type": "code",
   "execution_count": 6,
   "metadata": {},
   "outputs": [
    {
     "data": {
      "application/vnd.jupyter.widget-view+json": {
       "model_id": "aa7eda1ac1d84bd08d45ae0af348d169",
       "version_major": 2,
       "version_minor": 0
      },
      "text/plain": [
       "HBox(children=(IntProgress(value=0, max=3), HTML(value='')))"
      ]
     },
     "metadata": {},
     "output_type": "display_data"
    },
    {
     "name": "stdout",
     "output_type": "stream",
     "text": [
      "\n"
     ]
    },
    {
     "data": {
      "application/vnd.jupyter.widget-view+json": {
       "model_id": "3359cd535b314d2199c0e5506b10bc3d",
       "version_major": 2,
       "version_minor": 0
      },
      "text/plain": [
       "HBox(children=(IntProgress(value=1, bar_style='info', max=1), HTML(value='')))"
      ]
     },
     "metadata": {},
     "output_type": "display_data"
    },
    {
     "name": "stdout",
     "output_type": "stream",
     "text": [
      "\n",
      "Wall time: 176 ms\n"
     ]
    }
   ],
   "source": [
    "%%time\n",
    "path_ = os.path.join(PATH_TO_DATA, r'3users/')\n",
    "train_data_3users, site_freq_3users = prepare_train_set(path_, 10)"
   ]
  },
  {
   "cell_type": "markdown",
   "metadata": {},
   "source": [
    "Посмотрим на частотный словарь"
   ]
  },
  {
   "cell_type": "code",
   "execution_count": 7,
   "metadata": {},
   "outputs": [
    {
     "data": {
      "text/plain": [
       "{'google.com': (1, 9),\n",
       " 'oracle.com': (2, 8),\n",
       " 'meduza.io': (3, 3),\n",
       " 'vk.com': (4, 3),\n",
       " 'football.kulichki.ru': (5, 2),\n",
       " 'mail.google.com': (6, 2),\n",
       " 'plus.google.com': (7, 1),\n",
       " 'apis.google.com': (8, 1),\n",
       " 'accounts.google.com': (9, 1),\n",
       " 'geo.mozilla.org': (10, 1),\n",
       " 'yandex.ru': (11, 1)}"
      ]
     },
     "execution_count": 7,
     "metadata": {},
     "output_type": "execute_result"
    }
   ],
   "source": [
    "site_freq_3users"
   ]
  },
  {
   "cell_type": "markdown",
   "metadata": {},
   "source": [
    "И на датафрейм состоящий из сессий по 10 сайтов"
   ]
  },
  {
   "cell_type": "code",
   "execution_count": 8,
   "metadata": {},
   "outputs": [
    {
     "data": {
      "text/html": [
       "<div>\n",
       "<style scoped>\n",
       "    .dataframe tbody tr th:only-of-type {\n",
       "        vertical-align: middle;\n",
       "    }\n",
       "\n",
       "    .dataframe tbody tr th {\n",
       "        vertical-align: top;\n",
       "    }\n",
       "\n",
       "    .dataframe thead th {\n",
       "        text-align: right;\n",
       "    }\n",
       "</style>\n",
       "<table border=\"1\" class=\"dataframe\">\n",
       "  <thead>\n",
       "    <tr style=\"text-align: right;\">\n",
       "      <th></th>\n",
       "      <th>site1</th>\n",
       "      <th>site2</th>\n",
       "      <th>site3</th>\n",
       "      <th>site4</th>\n",
       "      <th>site5</th>\n",
       "      <th>site6</th>\n",
       "      <th>site7</th>\n",
       "      <th>site8</th>\n",
       "      <th>site9</th>\n",
       "      <th>site10</th>\n",
       "      <th>user_id</th>\n",
       "    </tr>\n",
       "  </thead>\n",
       "  <tbody>\n",
       "    <tr>\n",
       "      <th>0</th>\n",
       "      <td>4</td>\n",
       "      <td>2</td>\n",
       "      <td>2</td>\n",
       "      <td>10</td>\n",
       "      <td>2</td>\n",
       "      <td>1</td>\n",
       "      <td>9</td>\n",
       "      <td>6</td>\n",
       "      <td>8</td>\n",
       "      <td>7</td>\n",
       "      <td>1</td>\n",
       "    </tr>\n",
       "    <tr>\n",
       "      <th>1</th>\n",
       "      <td>4</td>\n",
       "      <td>1</td>\n",
       "      <td>1</td>\n",
       "      <td>1</td>\n",
       "      <td>0</td>\n",
       "      <td>0</td>\n",
       "      <td>0</td>\n",
       "      <td>0</td>\n",
       "      <td>0</td>\n",
       "      <td>0</td>\n",
       "      <td>1</td>\n",
       "    </tr>\n",
       "    <tr>\n",
       "      <th>2</th>\n",
       "      <td>4</td>\n",
       "      <td>2</td>\n",
       "      <td>5</td>\n",
       "      <td>5</td>\n",
       "      <td>2</td>\n",
       "      <td>0</td>\n",
       "      <td>0</td>\n",
       "      <td>0</td>\n",
       "      <td>0</td>\n",
       "      <td>0</td>\n",
       "      <td>2</td>\n",
       "    </tr>\n",
       "    <tr>\n",
       "      <th>3</th>\n",
       "      <td>3</td>\n",
       "      <td>1</td>\n",
       "      <td>2</td>\n",
       "      <td>1</td>\n",
       "      <td>2</td>\n",
       "      <td>1</td>\n",
       "      <td>1</td>\n",
       "      <td>6</td>\n",
       "      <td>11</td>\n",
       "      <td>3</td>\n",
       "      <td>3</td>\n",
       "    </tr>\n",
       "    <tr>\n",
       "      <th>4</th>\n",
       "      <td>3</td>\n",
       "      <td>1</td>\n",
       "      <td>2</td>\n",
       "      <td>0</td>\n",
       "      <td>0</td>\n",
       "      <td>0</td>\n",
       "      <td>0</td>\n",
       "      <td>0</td>\n",
       "      <td>0</td>\n",
       "      <td>0</td>\n",
       "      <td>3</td>\n",
       "    </tr>\n",
       "  </tbody>\n",
       "</table>\n",
       "</div>"
      ],
      "text/plain": [
       "   site1  site2  site3  site4  site5  site6  site7  site8  site9  site10  \\\n",
       "0      4      2      2     10      2      1      9      6      8       7   \n",
       "1      4      1      1      1      0      0      0      0      0       0   \n",
       "2      4      2      5      5      2      0      0      0      0       0   \n",
       "3      3      1      2      1      2      1      1      6     11       3   \n",
       "4      3      1      2      0      0      0      0      0      0       0   \n",
       "\n",
       "   user_id  \n",
       "0        1  \n",
       "1        1  \n",
       "2        2  \n",
       "3        3  \n",
       "4        3  "
      ]
     },
     "execution_count": 8,
     "metadata": {},
     "output_type": "execute_result"
    }
   ],
   "source": [
    "train_data_3users"
   ]
  },
  {
   "cell_type": "markdown",
   "metadata": {},
   "source": [
    "Првоерим работоспособность для 10 и 150 пользователей"
   ]
  },
  {
   "cell_type": "code",
   "execution_count": 86,
   "metadata": {},
   "outputs": [
    {
     "data": {
      "application/vnd.jupyter.widget-view+json": {
       "model_id": "5296db2e224e41c5967ced99fd74cd71",
       "version_major": 2,
       "version_minor": 0
      },
      "text/plain": [
       "HBox(children=(IntProgress(value=0, max=10), HTML(value='')))"
      ]
     },
     "metadata": {},
     "output_type": "display_data"
    },
    {
     "name": "stdout",
     "output_type": "stream",
     "text": [
      "\n"
     ]
    },
    {
     "data": {
      "application/vnd.jupyter.widget-view+json": {
       "model_id": "c5a69132ae7d42dbaea146464f23b268",
       "version_major": 2,
       "version_minor": 0
      },
      "text/plain": [
       "HBox(children=(IntProgress(value=1, bar_style='info', max=1), HTML(value='')))"
      ]
     },
     "metadata": {},
     "output_type": "display_data"
    },
    {
     "name": "stdout",
     "output_type": "stream",
     "text": [
      "\n",
      "Wall time: 2.39 s\n"
     ]
    }
   ],
   "source": [
    "%%time\n",
    "path_ = os.path.join(PATH_TO_DATA, r'10users/')\n",
    "train_data_10users, site_freq_10users = prepare_train_set(path_, 10)"
   ]
  },
  {
   "cell_type": "code",
   "execution_count": 173,
   "metadata": {},
   "outputs": [
    {
     "data": {
      "application/vnd.jupyter.widget-view+json": {
       "model_id": "716a2de5c74d424e865e20249aa5958c",
       "version_major": 2,
       "version_minor": 0
      },
      "text/plain": [
       "HBox(children=(IntProgress(value=0, max=150), HTML(value='')))"
      ]
     },
     "metadata": {},
     "output_type": "display_data"
    },
    {
     "name": "stdout",
     "output_type": "stream",
     "text": [
      "\n"
     ]
    },
    {
     "data": {
      "application/vnd.jupyter.widget-view+json": {
       "model_id": "b3952cf1382f4723b80b0deb65dc4467",
       "version_major": 2,
       "version_minor": 0
      },
      "text/plain": [
       "HBox(children=(IntProgress(value=1, bar_style='info', max=1), HTML(value='')))"
      ]
     },
     "metadata": {},
     "output_type": "display_data"
    },
    {
     "name": "stdout",
     "output_type": "stream",
     "text": [
      "\n",
      "Wall time: 8.09 s\n"
     ]
    }
   ],
   "source": [
    "%%time\n",
    "path_ = os.path.join(PATH_TO_DATA, r'150users/')\n",
    "train_data_150users, site_freq_150users = prepare_train_set(path_, 10)"
   ]
  },
  {
   "cell_type": "markdown",
   "metadata": {},
   "source": [
    "Сохраним частотные словари для каждого датаета в pkl файл"
   ]
  },
  {
   "cell_type": "code",
   "execution_count": 11,
   "metadata": {},
   "outputs": [],
   "source": [
    "with open(os.path.join(PATH_TO_DATA, 'site_freq_3users.pkl'), 'wb') as site_freq_3users_pkl:\n",
    "    pickle.dump(site_freq_3users, site_freq_3users_pkl, protocol=2)\n",
    "with open(os.path.join(PATH_TO_DATA, 'site_freq_10users.pkl'), 'wb') as site_freq_10users_pkl:\n",
    "    pickle.dump(site_freq_10users, site_freq_10users_pkl, protocol=2)\n",
    "with open(os.path.join(PATH_TO_DATA, 'site_freq_150users.pkl'), 'wb') as site_freq_150users_pkl:\n",
    "    pickle.dump(site_freq_150users, site_freq_150users_pkl, protocol=2)"
   ]
  },
  {
   "cell_type": "markdown",
   "metadata": {},
   "source": [
    "## Разреженный формат данных\n",
    "Если так подумать, то полученные признаки *site1*, ..., *site10* смысла не имеют как признаки в задаче классификации. А вот если воспользоваться идеей мешка слов из анализа текстов – это другое дело. Создадим новые матрицы, в которых строкам будут соответствовать сессии из 10 сайтов, а столбцам – индексы сайтов.  Делать это будем с помощью разреженных матриц Scipy – csr_matrix."
   ]
  },
  {
   "cell_type": "code",
   "execution_count": 12,
   "metadata": {},
   "outputs": [],
   "source": [
    "X_users, y_users = train_data_3users.iloc[:, :-1].values, \\\n",
    "            train_data_3users.iloc[:, -1].values \n",
    "    \n",
    "X_users = csr_matrix((np.ones(X_users.size, dtype=int),\n",
    "                            X_users.reshape(-1),\n",
    "                            np.arange(X_users.shape[0] + 1) * X_users.shape[1]))[:, 1:]"
   ]
  },
  {
   "cell_type": "code",
   "execution_count": 13,
   "metadata": {},
   "outputs": [
    {
     "name": "stdout",
     "output_type": "stream",
     "text": [
      "(5, 11) (5,)\n"
     ]
    },
    {
     "data": {
      "text/plain": [
       "array([[1, 3, 0, 1, 0, 1, 1, 1, 1, 1, 0],\n",
       "       [3, 0, 0, 1, 0, 0, 0, 0, 0, 0, 0],\n",
       "       [0, 2, 0, 1, 2, 0, 0, 0, 0, 0, 0],\n",
       "       [4, 2, 2, 0, 0, 1, 0, 0, 0, 0, 1],\n",
       "       [1, 1, 1, 0, 0, 0, 0, 0, 0, 0, 0]], dtype=int32)"
      ]
     },
     "execution_count": 13,
     "metadata": {},
     "output_type": "execute_result"
    }
   ],
   "source": [
    "print(X_users.shape, y_users.shape)\n",
    "X_users.toarray()"
   ]
  },
  {
   "cell_type": "markdown",
   "metadata": {},
   "source": [
    "Запишем в *.pkl* файл разреженные матрицы"
   ]
  },
  {
   "cell_type": "code",
   "execution_count": 89,
   "metadata": {},
   "outputs": [],
   "source": [
    "X_users, y_users = train_data_10users.iloc[:, :-1].values, \\\n",
    "            train_data_10users.iloc[:, -1].values \n",
    "    \n",
    "X_users = csr_matrix((np.ones(X_users.size, dtype=int),\n",
    "                            X_users.reshape(-1),\n",
    "                            np.arange(X_users.shape[0] + 1) * X_users.shape[1]))[:, 1:]\n",
    "with open(os.path.join(PATH_TO_DATA, 'X_sparse_10users.pkl'), 'wb') as X10_pkl:\n",
    "    pickle.dump(X_users, X10_pkl, protocol=2)\n",
    "with open(os.path.join(PATH_TO_DATA, 'y_10users.pkl'), 'wb') as y10_pkl:\n",
    "    pickle.dump(y_users, y10_pkl, protocol=2)"
   ]
  },
  {
   "cell_type": "code",
   "execution_count": 177,
   "metadata": {},
   "outputs": [],
   "source": [
    "X_users, y_users = train_data_150users.iloc[:, :-1].values, \\\n",
    "            train_data_150users.iloc[:, -1].values \n",
    "    \n",
    "X_users = csr_matrix((np.ones(X_users.size, dtype=int),\n",
    "                            X_users.reshape(-1),\n",
    "                            np.arange(X_users.shape[0] + 1) * X_users.shape[1]))[:, 1:]\n",
    "with open(os.path.join(PATH_TO_DATA, 'X_sparse_150users.pkl'), 'wb') as X150_pkl:\n",
    "    pickle.dump(X_users, X150_pkl, protocol=2)\n",
    "with open(os.path.join(PATH_TO_DATA, 'y_150users.pkl'), 'wb') as y150_pkl:\n",
    "    pickle.dump(y_users, y150_pkl, protocol=2)"
   ]
  },
  {
   "cell_type": "markdown",
   "metadata": {},
   "source": [
    "## Подготовка нескольких обучающих выборок для сравнения\n",
    "Пока мы брали последовательности из 10 сайтов, и это было наобум. Давайте сделаем число сайтов в сессии параметром, чтоб в дальнейшем сравнить модели классификации, обученные на разных выборках – с 5, 7, 10 и 15 сайтами в сессии. Более того, пока мы брали по 10 сайтов подряд, без пересечения. Теперь давайте применим идею скользящего окна – сессии будут перекрываться. \n",
    "\n",
    "**Пример**: для длины сессии 10 и ширины окна 7 файл из 30 записей породит не 3 сессии, как раньше (1-10, 11-20, 21-30), а 5 (1-10, 8-17, 15-24, 22-30, 29-30). При этом в предпоследней сессии будет один ноль, а в последней – 8 нолей.\n",
    "\n",
    "Создадим несколько выборок для разных сочетаний параметров длины сессии и ширины окна. Все они представлены в табличке ниже:\n",
    "\n",
    "<style type=\"text/css\">\n",
    ".tg  {border-collapse:collapse;border-spacing:0;}\n",
    ".tg td{font-family:Arial, sans-serif;font-size:14px;padding:10px 5px;border-style:solid;border-width:1px;overflow:hidden;word-break:normal;}\n",
    ".tg th{font-family:Arial, sans-serif;font-size:14px;font-weight:normal;padding:10px 5px;border-style:solid;border-width:1px;overflow:hidden;word-break:normal;}\n",
    "</style>\n",
    "<table class=\"tg\">\n",
    "  <tr>\n",
    "    <th class=\"tg-031e\">session_length -&gt;<br>window_size <br></th>\n",
    "    <th class=\"tg-031e\">5</th>\n",
    "    <th class=\"tg-031e\">7</th>\n",
    "    <th class=\"tg-031e\">10</th>\n",
    "    <th class=\"tg-031e\">15</th>\n",
    "  </tr>\n",
    "  <tr>\n",
    "    <td class=\"tg-031e\">5</td>\n",
    "    <td class=\"tg-031e\">v</td>\n",
    "    <td class=\"tg-031e\">v</td>\n",
    "    <td class=\"tg-031e\">v</td>\n",
    "    <td class=\"tg-031e\">v</td>\n",
    "  </tr>\n",
    "  <tr>\n",
    "    <td class=\"tg-031e\">7</td>\n",
    "    <td class=\"tg-031e\"></td>\n",
    "    <td class=\"tg-031e\">v</td>\n",
    "    <td class=\"tg-031e\">v</td>\n",
    "    <td class=\"tg-031e\">v</td>\n",
    "  </tr>\n",
    "  <tr>\n",
    "    <td class=\"tg-031e\">10</td>\n",
    "    <td class=\"tg-031e\"></td>\n",
    "    <td class=\"tg-031e\"></td>\n",
    "    <td class=\"tg-031e\"><font color='green'>v</font></td>\n",
    "    <td class=\"tg-031e\">v</td>\n",
    "  </tr>\n",
    "</table>\n",
    "\n",
    "Итого должно получиться 18 разреженных матриц – указанные в таблице 9 сочетаний параметров формирования сессий для выборок из 10 и 150 пользователей. При этом 2 выборки мы уже сделали в прошлой части, они соответствуют сочетанию параметров: session_length=10, window_size=10, которые помечены в таблице выше галочкой зеленого цвета (done)."
   ]
  },
  {
   "cell_type": "code",
   "execution_count": 15,
   "metadata": {},
   "outputs": [],
   "source": [
    "def prepare_sparse_train_set_window(path_to_csv_files, site_freq_path, \n",
    "                                    session_length=10, window_size=10):\n",
    "    path_template = os.path.join(path_to_csv_files, os.path.normcase('user*.csv'))\n",
    "    frequency = pd.read_pickle(site_freq_path)\n",
    "    \n",
    "    # create list of path to files\n",
    "    csv_files = glob(path_template)# возвращение список (возможно, пустой) путей, соответствующих шаблону pathname.\n",
    "    csv_files.sort()\n",
    "    # create list of DataFrames from csv_files\n",
    "    series = []\n",
    "    delt_itr = session_length - window_size\n",
    "    for file in tqdm_notebook(csv_files):\n",
    "        data = pd.read_csv(file)\n",
    "        series.append(data['site'])\n",
    "    # get user_ids list\n",
    "    user_ids = [int(re.search('([1-9][0-9]*).csv$', path).group(1)) for path in csv_files]\n",
    "    # list of site column's name\n",
    "    columns = ['site' + str(i) for i in range(1, session_length + 1)]\n",
    "    \n",
    "    features_list = []\n",
    "    for index, sites in tqdm_notebook(enumerate(series)):\n",
    "        # find features matrix size for each users\n",
    "        sites_number = sites.shape[0]\n",
    "        rows = sites_number // window_size if sites_number % window_size == 0 else sites_number // window_size + 1\n",
    "        length = rows * session_length\n",
    "        # create numpy vector for fatures\n",
    "        sessions = np.empty(length, dtype=int)\n",
    "        # add zeros if need\n",
    "        zeros = length - sites_number\n",
    "        if zeros > 0:\n",
    "            sessions[-zeros:] = 0\n",
    "        itr = 0\n",
    "        tmp = 1\n",
    "        i = 0\n",
    "        # encode names of sites\n",
    "        while i < len(sites):\n",
    "            if itr < tmp * session_length:\n",
    "                sessions[itr] = frequency[sites[i]][0]\n",
    "                #print('i = ', i, 'tmp = ', tmp, 'itr = ', itr, 'tmp * session_length = ', tmp * session_length)\n",
    "                itr += 1\n",
    "                i += 1\n",
    "            else: \n",
    "                i -= delt_itr\n",
    "                tmp += 1\n",
    "\n",
    "        \n",
    "        while (itr - 1) % session_length >= window_size:\n",
    "            for i in range(delt_itr):\n",
    "              \n",
    "                sessions[tmp * session_length + i] = sessions[tmp * session_length - delt_itr + i]\n",
    "                itr += 1\n",
    "            tmp += 1\n",
    "\n",
    "        # combine feartures for each users\n",
    "        sessions = np.reshape(sessions, (rows, -1))\n",
    "        sessions_dataframe = pd.DataFrame(sessions, columns=columns)\n",
    "        sessions_dataframe['user_id'] = user_ids[index]\n",
    "        features_list.append(sessions_dataframe)\n",
    "\n",
    "  \n",
    "    # get 'features\n",
    "    features = features_list[0].append(features_list[1:], ignore_index=True)\n",
    "    X_users, y_users = features.iloc[:, :-1].values, \\\n",
    "            features.iloc[:, -1].values \n",
    "    \n",
    "    X_users = csr_matrix((np.ones(X_users.size, dtype=int),\n",
    "                              X_users.reshape(-1),\n",
    "                              np.arange(X_users.shape[0] + 1) * X_users.shape[1]))[:, 1:]\n",
    "    \n",
    "    return X_users, y_users"
   ]
  },
  {
   "cell_type": "markdown",
   "metadata": {},
   "source": [
    "**Применим полученную функцию с параметрами *session_length=5* и *window_size=3* к 3 пользователям.**"
   ]
  },
  {
   "cell_type": "code",
   "execution_count": 16,
   "metadata": {},
   "outputs": [
    {
     "data": {
      "application/vnd.jupyter.widget-view+json": {
       "model_id": "3d7b76cfb4ff4acaa7d8cc2a95d68999",
       "version_major": 2,
       "version_minor": 0
      },
      "text/plain": [
       "HBox(children=(IntProgress(value=0, max=3), HTML(value='')))"
      ]
     },
     "metadata": {},
     "output_type": "display_data"
    },
    {
     "name": "stdout",
     "output_type": "stream",
     "text": [
      "\n"
     ]
    },
    {
     "data": {
      "application/vnd.jupyter.widget-view+json": {
       "model_id": "670c7ca96f354fa090bf2ecbca691bfb",
       "version_major": 2,
       "version_minor": 0
      },
      "text/plain": [
       "HBox(children=(IntProgress(value=1, bar_style='info', max=1), HTML(value='')))"
      ]
     },
     "metadata": {},
     "output_type": "display_data"
    },
    {
     "name": "stdout",
     "output_type": "stream",
     "text": [
      "\n",
      "Wall time: 463 ms\n"
     ]
    }
   ],
   "source": [
    "%%time\n",
    "X_users5_3, y_s5_w3 = prepare_sparse_train_set_window(os.path.join(PATH_TO_DATA,'3users'), \n",
    "                                                       os.path.join(PATH_TO_DATA,'site_freq_3users.pkl'),\n",
    "                                       session_length=5, window_size=3)"
   ]
  },
  {
   "cell_type": "code",
   "execution_count": 17,
   "metadata": {},
   "outputs": [
    {
     "data": {
      "text/plain": [
       "matrix([[0, 3, 0, 1, 0, 0, 0, 0, 0, 1, 0],\n",
       "        [1, 1, 0, 0, 0, 1, 0, 0, 1, 1, 0],\n",
       "        [0, 0, 0, 1, 0, 1, 1, 1, 1, 0, 0],\n",
       "        [3, 0, 0, 1, 0, 0, 1, 0, 0, 0, 0],\n",
       "        [2, 0, 0, 0, 0, 0, 0, 0, 0, 0, 0],\n",
       "        [0, 2, 0, 1, 2, 0, 0, 0, 0, 0, 0],\n",
       "        [0, 1, 0, 0, 1, 0, 0, 0, 0, 0, 0],\n",
       "        [2, 2, 1, 0, 0, 0, 0, 0, 0, 0, 0],\n",
       "        [3, 1, 0, 0, 0, 1, 0, 0, 0, 0, 0],\n",
       "        [1, 0, 2, 0, 0, 1, 0, 0, 0, 0, 1],\n",
       "        [1, 1, 2, 0, 0, 0, 0, 0, 0, 0, 0],\n",
       "        [0, 1, 0, 0, 0, 0, 0, 0, 0, 0, 0]], dtype=int32)"
      ]
     },
     "execution_count": 17,
     "metadata": {},
     "output_type": "execute_result"
    }
   ],
   "source": [
    "X_users5_3.todense()"
   ]
  },
  {
   "cell_type": "code",
   "execution_count": 18,
   "metadata": {},
   "outputs": [
    {
     "data": {
      "text/plain": [
       "array([1, 1, 1, 1, 1, 2, 2, 3, 3, 3, 3, 3], dtype=int64)"
      ]
     },
     "execution_count": 18,
     "metadata": {},
     "output_type": "execute_result"
    }
   ],
   "source": [
    "y_s5_w3"
   ]
  },
  {
   "cell_type": "markdown",
   "metadata": {},
   "source": [
    "**Запустим созданную функцию 16 раз с помощью циклов по числу пользователей num_users (10 или 150), значениям параметра *session_length* (15, 10, 7 или 5) и значениям параметра *window_size* (10, 7 или 5). Сериализуем все 16 разреженных матриц (обучающие выборки) и векторов (метки целевого класса – ID пользователя) в файлы `X_sparse_{num_users}users_s{session_length}_w{window_size}.pkl` и `y_{num_users}users_s{session_length}_w{window_size}.pkl`.**"
   ]
  },
  {
   "cell_type": "code",
   "execution_count": null,
   "metadata": {},
   "outputs": [],
   "source": [
    "%%time\n",
    "import itertools\n",
    "\n",
    "\n",
    "for num_users in [10, 150]:\n",
    "    for window_size, session_length in itertools.product([10, 7, 5], [15, 10, 7, 5]):\n",
    "        if window_size <= session_length and (window_size, session_length) != (10, 10):\n",
    "            path_ = os.path.join(PATH_TO_DATA, r'%dusers/' % num_users)\n",
    "            path_freq = os.path.join(PATH_TO_DATA, r'site_freq_%dusers.pkl' % num_users)\n",
    "            X_sparse, y = prepare_sparse_train_set_window(path_, path_freq, session_length, window_size)\n",
    "            file_X = 'X_sparse_%dusers_s%d_w%d.pkl' % (num_users, session_length, window_size)\n",
    "            with open(os.path.join(PATH_TO_DATA, file_X), 'wb') as X_spr:\n",
    "                 pickle.dump(X_sparse, X_spr, protocol=2)\n",
    "            file_y = 'y_sparse_%dusers_s%d_w%d.pkl' % (num_users, session_length, window_size)\n",
    "            with open(os.path.join(PATH_TO_DATA, file_y), 'wb') as y_spr:\n",
    "                 pickle.dump(y, y_spr, protocol=2)                     "
   ]
  },
  {
   "cell_type": "markdown",
   "metadata": {},
   "source": [
    "## Первичный анализ данных, проверка гипотез"
   ]
  },
  {
   "cell_type": "markdown",
   "metadata": {},
   "source": [
    "**Считаем в DataFrame train_data_10users.csv. Далее будем работать с ним.**"
   ]
  },
  {
   "cell_type": "code",
   "execution_count": 19,
   "metadata": {},
   "outputs": [],
   "source": [
    "train_df = pd.read_csv(os.path.join(PATH_TO_DATA, 'train_data_10users.csv'), \n",
    "                       index_col='session_id')"
   ]
  },
  {
   "cell_type": "markdown",
   "metadata": {},
   "source": [
    "**Посчитаем распределение числа уникальных сайтов в каждой сессии из 10 посещенных подряд сайтов.**"
   ]
  },
  {
   "cell_type": "code",
   "execution_count": 20,
   "metadata": {},
   "outputs": [
    {
     "data": {
      "image/png": "[encoded data removed]",
      "text/plain": [
       "<Figure size 432x288 with 1 Axes>"
      ]
     },
     "metadata": {
      "needs_background": "light"
     },
     "output_type": "display_data"
    }
   ],
   "source": [
    "num_unique_sites = [np.unique(train_df.values[i, :-1]).shape[0] \n",
    "                    for i in range(train_df.shape[0])]\n",
    "pd.Series(num_unique_sites).hist();"
   ]
  },
  {
   "cell_type": "markdown",
   "metadata": {},
   "source": [
    "**Проверим с помощью критерия Шапиро-Уилка, что эта величина распределена нормально**"
   ]
  },
  {
   "cell_type": "code",
   "execution_count": 21,
   "metadata": {},
   "outputs": [],
   "source": [
    "def gener(n_sample, max_v, arr):\n",
    "    X = np.random.randint(0, max_v, n_sample)\n",
    "    Y = []\n",
    "    for i  in X:\n",
    "        Y.append(arr[i])\n",
    "    return Y"
   ]
  },
  {
   "cell_type": "code",
   "execution_count": 22,
   "metadata": {},
   "outputs": [
    {
     "data": {
      "text/plain": [
       "(0.9482390880584717, 6.015274541491811e-13)"
      ]
     },
     "execution_count": 22,
     "metadata": {},
     "output_type": "execute_result"
    }
   ],
   "source": [
    "y = gener(550, pd.Series(num_unique_sites).shape[0], num_unique_sites)\n",
    "stats.shapiro(pd.Series(y))"
   ]
  },
  {
   "cell_type": "markdown",
   "metadata": {},
   "source": [
    "Видно, что p-value меньше 0.05, что подтверждает нашу гипотезу о нормальном распределении"
   ]
  },
  {
   "cell_type": "markdown",
   "metadata": {},
   "source": [
    "**Проверим гипотезу о том, что пользователь хотя бы раз зайдет на сайт, который он уже ранее посетил в сессии из 10 сайтов. Проверим с помощью биномиального критерия для доли, что доля случаев, когда пользователь повторно посетил какой-то сайт (то есть число уникальных сайтов в сессии < 10) велика: больше 95% (альтернатива тому, что доля равна 95% – одностороняя).**"
   ]
  },
  {
   "cell_type": "code",
   "execution_count": 23,
   "metadata": {},
   "outputs": [
    {
     "name": "stdout",
     "output_type": "stream",
     "text": [
      "[0.02207654]\n"
     ]
    }
   ],
   "source": [
    "simil = [1 for x  in num_unique_sites if x < 10]\n",
    "pi_val = stats.binom_test(len(simil), np.array(num_unique_sites).shape, 0.95,  alternative= 'greater') \n",
    "print(pi_val)"
   ]
  },
  {
   "cell_type": "markdown",
   "metadata": {},
   "source": [
    "**95% доверительный интервал Уилсона для доли случаев, когда пользователь повторно посетил какой-то сайт**"
   ]
  },
  {
   "cell_type": "code",
   "execution_count": 24,
   "metadata": {},
   "outputs": [
    {
     "name": "stdout",
     "output_type": "stream",
     "text": [
      "[0.95] [0.957]\n"
     ]
    }
   ],
   "source": [
    "wilson_interval = proportion_confint(len(simil), np.array(num_unique_sites).shape, method='wilson')\n",
    "print('{} {}'.format(np.round(wilson_interval[0], 3),\n",
    "                                   np.round(wilson_interval[1], 3)))"
   ]
  },
  {
   "cell_type": "markdown",
   "metadata": {},
   "source": [
    "## Визуальный анализ данных и построение признаков"
   ]
  },
  {
   "cell_type": "markdown",
   "metadata": {},
   "source": [
    "**Создадим на основе функций *prepare_train_set* и *prepare_sparse_train_set_window*  новую – *prepare_train_set_with_fe*, (от \"feature engineering\"), создадим следующие признаки:**\n",
    "- `session_timespan` – продолжительность сессии (разница между максимальным и минимальным временем посещения сайтов в сессии, в секундах)\n",
    "- `#unique_sites` – число уникальных сайтов в сессии \n",
    "- `start_hour` – час начала сессии (то есть час в записи минимального timestamp среди десяти)\n",
    "- `day_of_week` – день недели (то есть день недели в записи минимального timestamp среди десяти)\n",
    "\n",
    "Функция должна возвращать новый DataFrame (как возвращала функция *prepare_train_set*), только признаков должно быть на 4 больше. Порядок, в котором добавляются признаки: *site1*, ... *site10*, *session_timespan*, *#unique_sites*, *start_hour*, *day_of_week* и *user_id* (это видно и чуть ниже по тому, как функция вызывается)."
   ]
  },
  {
   "cell_type": "code",
   "execution_count": 27,
   "metadata": {},
   "outputs": [],
   "source": [
    "def prepare_train_set_with_fe(path_to_csv_files, site_freq_path, feature_names,\n",
    "                                    session_length=10, window_size=10):\n",
    "    path_template = os.path.join(path_to_csv_files, os.path.normcase('user*.csv'))\n",
    "    frequency = pd.read_pickle(site_freq_path)\n",
    "    \n",
    "    path_template = os.path.join(path_to_csv_files, os.path.normcase('user*.csv'))\n",
    "    frequency = pd.read_pickle(site_freq_path)\n",
    "        \n",
    "    # create list of path to files\n",
    "    csv_files = glob(path_template)# возвращение список (возможно, пустой) путей, соответствующих шаблону pathname.\n",
    "    csv_files.sort()\n",
    "    # create list of DataFrames from csv_files\n",
    "    series = []\n",
    "    time = []\n",
    "    time_stamp = []\n",
    "    for file in tqdm_notebook(csv_files):\n",
    "        data = pd.read_csv(file)\n",
    "        series.append(data['site'])\n",
    "        time.append(data['timestamp'])\n",
    "        # get user_ids list\n",
    "        user_ids = [int(re.search('([1-9][0-9]*).csv$', path).group(1)) for path in csv_files]\n",
    "        # list of site column's name\n",
    "        columns_st = ['site' + str(i) for i in range(1, session_length + 1)]\n",
    "        columns_diff = ['diff' + str(i) for i in range(1, session_length)]\n",
    "        time_stamp.append([pd.Timestamp(x).timestamp() for x in data['timestamp']])\n",
    "\n",
    "    features_list = []\n",
    "\n",
    "    #for sit, tim in zip(enumerate(series), (time)):\n",
    "\n",
    "\n",
    "    for sites, times, tim_sec in tqdm_notebook(zip(enumerate(series), time, time_stamp)):\n",
    "        # find features matrix size for each users\n",
    "    \n",
    "        sites_number = sites[1].shape[0]\n",
    "        rows = sites_number // session_length if sites_number % session_length == 0 else sites_number // session_length + 1\n",
    "        length = rows * session_length\n",
    "        lenght_z = rows * (session_length - 1)\n",
    "        # create numpy vector for fatures\n",
    "        sessions = np.empty(length, dtype=int)\n",
    "        session_diff = np.zeros(length, dtype = int)\n",
    "        # add zeros if need\n",
    "        zeros = length - sites_number\n",
    "        if zeros > 0:\n",
    "            sessions[-zeros:] = 0\n",
    "        # encode names of sites\n",
    "        for i, site in enumerate(sites[1]):\n",
    "            sessions[i] = frequency[site][0]\n",
    "            if (i+1) < len(sites[1]) and (i + 1) % session_length != 0:\n",
    "                session_diff[i] = (tim_sec[i+1] - tim_sec[i])\n",
    "        # combine feartures for each users\n",
    "        sessions = np.reshape(sessions, (rows, -1))\n",
    "        session_diff = np.reshape(session_diff,(rows,-1))[:,:-1]\n",
    "        sessions_dataframe = pd.DataFrame(sessions, columns=columns_st)\n",
    "        session_diff_dataframe = pd.DataFrame(session_diff, columns=columns_diff)\n",
    "        sessions_dataframe = pd.concat([sessions_dataframe, session_diff_dataframe], axis = 1)\n",
    "        session_timespan = []\n",
    "        session_start_hour = []\n",
    "        session_d_o_w = []\n",
    "        session_unique_sites = []\n",
    "        for i, ses in enumerate(sessions):\n",
    "            if i < rows-1:\n",
    "                dat1 = pd.Timestamp(times[i * session_length])\n",
    "                dat2 = pd.Timestamp(times[i * session_length + session_length - 1])\n",
    "                \n",
    "                session_timespan.append((dat2-dat1).seconds)\n",
    "                session_start_hour.append(dat1.hour)\n",
    "                session_d_o_w.append(dat1.dayofweek)\n",
    "                session_unique_sites.append(len(np.unique(ses)))\n",
    "            \n",
    "\n",
    "            else:\n",
    "                ses_end = ses[np.nonzero(ses)]\n",
    "                dat1 = pd.Timestamp(times[i*session_length])\n",
    "                dat2 = pd.Timestamp(times[i * session_length + len(ses_end) - 1])\n",
    "                session_timespan.append((dat2-dat1).seconds)\n",
    "                session_start_hour.append(dat1.hour)\n",
    "                session_d_o_w.append(dat1.dayofweek)\n",
    "                session_unique_sites.append(len(np.unique(ses_end)))\n",
    "            \n",
    "        sessions_dataframe['session_timespan'] = session_timespan\n",
    "        sessions_dataframe['#unique_sites'] = session_unique_sites\n",
    "        sessions_dataframe['start_hour'] = session_start_hour\n",
    "        sessions_dataframe['day_of_week'] = session_d_o_w\n",
    "        sessions_dataframe['target'] = user_ids[sites[0]]\n",
    "    \n",
    "    \n",
    "        features_list.append(sessions_dataframe)\n",
    "    # get 'features\n",
    "    features = features_list[0].append(features_list[1:], ignore_index=True)\n",
    "    return features"
   ]
  },
  {
   "cell_type": "markdown",
   "metadata": {},
   "source": [
    "**Проверим функцию на датасете из 3 пользователей.**"
   ]
  },
  {
   "cell_type": "code",
   "execution_count": 28,
   "metadata": {},
   "outputs": [
    {
     "data": {
      "application/vnd.jupyter.widget-view+json": {
       "model_id": "64119e5507eb4cf890ee626981a44a08",
       "version_major": 2,
       "version_minor": 0
      },
      "text/plain": [
       "HBox(children=(IntProgress(value=0, max=3), HTML(value='')))"
      ]
     },
     "metadata": {},
     "output_type": "display_data"
    },
    {
     "name": "stdout",
     "output_type": "stream",
     "text": [
      "\n"
     ]
    },
    {
     "data": {
      "application/vnd.jupyter.widget-view+json": {
       "model_id": "5c0c6ecaf37844898574ccc564cfad38",
       "version_major": 2,
       "version_minor": 0
      },
      "text/plain": [
       "HBox(children=(IntProgress(value=1, bar_style='info', max=1), HTML(value='')))"
      ]
     },
     "metadata": {},
     "output_type": "display_data"
    },
    {
     "name": "stdout",
     "output_type": "stream",
     "text": [
      "\n"
     ]
    }
   ],
   "source": [
    "feature_names = ['site' + str(i) for i in range(1,11)] + \\\n",
    "                ['time_diff' + str(j) for j in range(1,10)] + \\\n",
    "                ['session_timespan', '#unique_sites', 'start_hour', \n",
    "                 'day_of_week', 'target']\n",
    "train_data_toy  = prepare_train_set_with_fe(os.path.join(PATH_TO_DATA, \n",
    "                                                         '3users'), \n",
    "                  site_freq_path=os.path.join(PATH_TO_DATA, \n",
    "                                              'site_freq_3users.pkl'),\n",
    "                  feature_names=feature_names, session_length=10)"
   ]
  },
  {
   "cell_type": "code",
   "execution_count": 29,
   "metadata": {},
   "outputs": [
    {
     "data": {
      "text/html": [
       "<div>\n",
       "<style scoped>\n",
       "    .dataframe tbody tr th:only-of-type {\n",
       "        vertical-align: middle;\n",
       "    }\n",
       "\n",
       "    .dataframe tbody tr th {\n",
       "        vertical-align: top;\n",
       "    }\n",
       "\n",
       "    .dataframe thead th {\n",
       "        text-align: right;\n",
       "    }\n",
       "</style>\n",
       "<table border=\"1\" class=\"dataframe\">\n",
       "  <thead>\n",
       "    <tr style=\"text-align: right;\">\n",
       "      <th></th>\n",
       "      <th>site1</th>\n",
       "      <th>site2</th>\n",
       "      <th>site3</th>\n",
       "      <th>site4</th>\n",
       "      <th>site5</th>\n",
       "      <th>site6</th>\n",
       "      <th>site7</th>\n",
       "      <th>site8</th>\n",
       "      <th>site9</th>\n",
       "      <th>site10</th>\n",
       "      <th>...</th>\n",
       "      <th>diff5</th>\n",
       "      <th>diff6</th>\n",
       "      <th>diff7</th>\n",
       "      <th>diff8</th>\n",
       "      <th>diff9</th>\n",
       "      <th>session_timespan</th>\n",
       "      <th>#unique_sites</th>\n",
       "      <th>start_hour</th>\n",
       "      <th>day_of_week</th>\n",
       "      <th>target</th>\n",
       "    </tr>\n",
       "  </thead>\n",
       "  <tbody>\n",
       "    <tr>\n",
       "      <th>0</th>\n",
       "      <td>4</td>\n",
       "      <td>2</td>\n",
       "      <td>2</td>\n",
       "      <td>10</td>\n",
       "      <td>2</td>\n",
       "      <td>1</td>\n",
       "      <td>9</td>\n",
       "      <td>6</td>\n",
       "      <td>8</td>\n",
       "      <td>7</td>\n",
       "      <td>...</td>\n",
       "      <td>2</td>\n",
       "      <td>1</td>\n",
       "      <td>2</td>\n",
       "      <td>3</td>\n",
       "      <td>55</td>\n",
       "      <td>7998</td>\n",
       "      <td>8</td>\n",
       "      <td>9</td>\n",
       "      <td>4</td>\n",
       "      <td>1</td>\n",
       "    </tr>\n",
       "    <tr>\n",
       "      <th>1</th>\n",
       "      <td>4</td>\n",
       "      <td>1</td>\n",
       "      <td>1</td>\n",
       "      <td>1</td>\n",
       "      <td>0</td>\n",
       "      <td>0</td>\n",
       "      <td>0</td>\n",
       "      <td>0</td>\n",
       "      <td>0</td>\n",
       "      <td>0</td>\n",
       "      <td>...</td>\n",
       "      <td>0</td>\n",
       "      <td>0</td>\n",
       "      <td>0</td>\n",
       "      <td>0</td>\n",
       "      <td>0</td>\n",
       "      <td>60</td>\n",
       "      <td>2</td>\n",
       "      <td>12</td>\n",
       "      <td>4</td>\n",
       "      <td>1</td>\n",
       "    </tr>\n",
       "    <tr>\n",
       "      <th>2</th>\n",
       "      <td>4</td>\n",
       "      <td>2</td>\n",
       "      <td>5</td>\n",
       "      <td>5</td>\n",
       "      <td>2</td>\n",
       "      <td>0</td>\n",
       "      <td>0</td>\n",
       "      <td>0</td>\n",
       "      <td>0</td>\n",
       "      <td>0</td>\n",
       "      <td>...</td>\n",
       "      <td>0</td>\n",
       "      <td>0</td>\n",
       "      <td>0</td>\n",
       "      <td>0</td>\n",
       "      <td>0</td>\n",
       "      <td>7935</td>\n",
       "      <td>3</td>\n",
       "      <td>9</td>\n",
       "      <td>4</td>\n",
       "      <td>2</td>\n",
       "    </tr>\n",
       "    <tr>\n",
       "      <th>3</th>\n",
       "      <td>3</td>\n",
       "      <td>1</td>\n",
       "      <td>2</td>\n",
       "      <td>1</td>\n",
       "      <td>2</td>\n",
       "      <td>1</td>\n",
       "      <td>1</td>\n",
       "      <td>6</td>\n",
       "      <td>11</td>\n",
       "      <td>3</td>\n",
       "      <td>...</td>\n",
       "      <td>2</td>\n",
       "      <td>1</td>\n",
       "      <td>2</td>\n",
       "      <td>3</td>\n",
       "      <td>55</td>\n",
       "      <td>7998</td>\n",
       "      <td>5</td>\n",
       "      <td>9</td>\n",
       "      <td>4</td>\n",
       "      <td>3</td>\n",
       "    </tr>\n",
       "    <tr>\n",
       "      <th>4</th>\n",
       "      <td>3</td>\n",
       "      <td>1</td>\n",
       "      <td>2</td>\n",
       "      <td>0</td>\n",
       "      <td>0</td>\n",
       "      <td>0</td>\n",
       "      <td>0</td>\n",
       "      <td>0</td>\n",
       "      <td>0</td>\n",
       "      <td>0</td>\n",
       "      <td>...</td>\n",
       "      <td>0</td>\n",
       "      <td>0</td>\n",
       "      <td>0</td>\n",
       "      <td>0</td>\n",
       "      <td>0</td>\n",
       "      <td>1471</td>\n",
       "      <td>3</td>\n",
       "      <td>12</td>\n",
       "      <td>4</td>\n",
       "      <td>3</td>\n",
       "    </tr>\n",
       "  </tbody>\n",
       "</table>\n",
       "<p>5 rows × 24 columns</p>\n",
       "</div>"
      ],
      "text/plain": [
       "   site1  site2  site3  site4  site5  site6  site7  site8  site9  site10  \\\n",
       "0      4      2      2     10      2      1      9      6      8       7   \n",
       "1      4      1      1      1      0      0      0      0      0       0   \n",
       "2      4      2      5      5      2      0      0      0      0       0   \n",
       "3      3      1      2      1      2      1      1      6     11       3   \n",
       "4      3      1      2      0      0      0      0      0      0       0   \n",
       "\n",
       "    ...    diff5  diff6  diff7  diff8  diff9  session_timespan  #unique_sites  \\\n",
       "0   ...        2      1      2      3     55              7998              8   \n",
       "1   ...        0      0      0      0      0                60              2   \n",
       "2   ...        0      0      0      0      0              7935              3   \n",
       "3   ...        2      1      2      3     55              7998              5   \n",
       "4   ...        0      0      0      0      0              1471              3   \n",
       "\n",
       "   start_hour  day_of_week  target  \n",
       "0           9            4       1  \n",
       "1          12            4       1  \n",
       "2           9            4       2  \n",
       "3           9            4       3  \n",
       "4          12            4       3  \n",
       "\n",
       "[5 rows x 24 columns]"
      ]
     },
     "execution_count": 29,
     "metadata": {},
     "output_type": "execute_result"
    }
   ],
   "source": [
    "train_data_toy"
   ]
  },
  {
   "cell_type": "markdown",
   "metadata": {},
   "source": [
    "**Применим функцию prepare_train_set_with_fe к данным по 10 пользователям, укажем session_length=10**"
   ]
  },
  {
   "cell_type": "code",
   "execution_count": 30,
   "metadata": {},
   "outputs": [
    {
     "data": {
      "application/vnd.jupyter.widget-view+json": {
       "model_id": "a4ca8c1a6e5a46d09207ec7a6dfe7a27",
       "version_major": 2,
       "version_minor": 0
      },
      "text/plain": [
       "HBox(children=(IntProgress(value=0, max=10), HTML(value='')))"
      ]
     },
     "metadata": {},
     "output_type": "display_data"
    },
    {
     "name": "stdout",
     "output_type": "stream",
     "text": [
      "\n"
     ]
    },
    {
     "data": {
      "application/vnd.jupyter.widget-view+json": {
       "model_id": "fd3d1009c3f64b6b9ddd235ddfcaff30",
       "version_major": 2,
       "version_minor": 0
      },
      "text/plain": [
       "HBox(children=(IntProgress(value=1, bar_style='info', max=1), HTML(value='')))"
      ]
     },
     "metadata": {},
     "output_type": "display_data"
    },
    {
     "name": "stdout",
     "output_type": "stream",
     "text": [
      "\n",
      "Wall time: 9.82 s\n"
     ]
    }
   ],
   "source": [
    "%%time\n",
    "n_user = 10\n",
    "train_data_10users = prepare_train_set_with_fe(os.path.join(PATH_TO_DATA, \n",
    "                                                         '%dusers' % n_user), \n",
    "                  site_freq_path=os.path.join(PATH_TO_DATA, \n",
    "                                              'site_freq_%dusers.pkl' % n_user),\n",
    "                  feature_names=feature_names, session_length=10)"
   ]
  },
  {
   "cell_type": "code",
   "execution_count": 31,
   "metadata": {},
   "outputs": [
    {
     "data": {
      "text/html": [
       "<div>\n",
       "<style scoped>\n",
       "    .dataframe tbody tr th:only-of-type {\n",
       "        vertical-align: middle;\n",
       "    }\n",
       "\n",
       "    .dataframe tbody tr th {\n",
       "        vertical-align: top;\n",
       "    }\n",
       "\n",
       "    .dataframe thead th {\n",
       "        text-align: right;\n",
       "    }\n",
       "</style>\n",
       "<table border=\"1\" class=\"dataframe\">\n",
       "  <thead>\n",
       "    <tr style=\"text-align: right;\">\n",
       "      <th></th>\n",
       "      <th>site1</th>\n",
       "      <th>site2</th>\n",
       "      <th>site3</th>\n",
       "      <th>site4</th>\n",
       "      <th>site5</th>\n",
       "      <th>site6</th>\n",
       "      <th>site7</th>\n",
       "      <th>site8</th>\n",
       "      <th>site9</th>\n",
       "      <th>site10</th>\n",
       "      <th>...</th>\n",
       "      <th>diff5</th>\n",
       "      <th>diff6</th>\n",
       "      <th>diff7</th>\n",
       "      <th>diff8</th>\n",
       "      <th>diff9</th>\n",
       "      <th>session_timespan</th>\n",
       "      <th>#unique_sites</th>\n",
       "      <th>start_hour</th>\n",
       "      <th>day_of_week</th>\n",
       "      <th>target</th>\n",
       "    </tr>\n",
       "  </thead>\n",
       "  <tbody>\n",
       "    <tr>\n",
       "      <th>0</th>\n",
       "      <td>192</td>\n",
       "      <td>587</td>\n",
       "      <td>133</td>\n",
       "      <td>3</td>\n",
       "      <td>133</td>\n",
       "      <td>133</td>\n",
       "      <td>3</td>\n",
       "      <td>133</td>\n",
       "      <td>203</td>\n",
       "      <td>133</td>\n",
       "      <td>...</td>\n",
       "      <td>20</td>\n",
       "      <td>1</td>\n",
       "      <td>0</td>\n",
       "      <td>1</td>\n",
       "      <td>0</td>\n",
       "      <td>33</td>\n",
       "      <td>5</td>\n",
       "      <td>8</td>\n",
       "      <td>4</td>\n",
       "      <td>31</td>\n",
       "    </tr>\n",
       "    <tr>\n",
       "      <th>1</th>\n",
       "      <td>416</td>\n",
       "      <td>193</td>\n",
       "      <td>693</td>\n",
       "      <td>254</td>\n",
       "      <td>133</td>\n",
       "      <td>31</td>\n",
       "      <td>400</td>\n",
       "      <td>3533</td>\n",
       "      <td>219</td>\n",
       "      <td>55</td>\n",
       "      <td>...</td>\n",
       "      <td>0</td>\n",
       "      <td>1</td>\n",
       "      <td>3</td>\n",
       "      <td>3</td>\n",
       "      <td>8</td>\n",
       "      <td>284</td>\n",
       "      <td>10</td>\n",
       "      <td>8</td>\n",
       "      <td>4</td>\n",
       "      <td>31</td>\n",
       "    </tr>\n",
       "    <tr>\n",
       "      <th>2</th>\n",
       "      <td>55</td>\n",
       "      <td>3</td>\n",
       "      <td>55</td>\n",
       "      <td>55</td>\n",
       "      <td>5</td>\n",
       "      <td>294</td>\n",
       "      <td>416</td>\n",
       "      <td>340</td>\n",
       "      <td>901</td>\n",
       "      <td>55</td>\n",
       "      <td>...</td>\n",
       "      <td>0</td>\n",
       "      <td>0</td>\n",
       "      <td>1</td>\n",
       "      <td>0</td>\n",
       "      <td>0</td>\n",
       "      <td>258</td>\n",
       "      <td>7</td>\n",
       "      <td>8</td>\n",
       "      <td>4</td>\n",
       "      <td>31</td>\n",
       "    </tr>\n",
       "    <tr>\n",
       "      <th>3</th>\n",
       "      <td>475</td>\n",
       "      <td>3407</td>\n",
       "      <td>475</td>\n",
       "      <td>55</td>\n",
       "      <td>55</td>\n",
       "      <td>55</td>\n",
       "      <td>55</td>\n",
       "      <td>945</td>\n",
       "      <td>201</td>\n",
       "      <td>123</td>\n",
       "      <td>...</td>\n",
       "      <td>25</td>\n",
       "      <td>1</td>\n",
       "      <td>0</td>\n",
       "      <td>0</td>\n",
       "      <td>0</td>\n",
       "      <td>30</td>\n",
       "      <td>6</td>\n",
       "      <td>8</td>\n",
       "      <td>4</td>\n",
       "      <td>31</td>\n",
       "    </tr>\n",
       "    <tr>\n",
       "      <th>4</th>\n",
       "      <td>342</td>\n",
       "      <td>55</td>\n",
       "      <td>5</td>\n",
       "      <td>4494</td>\n",
       "      <td>258</td>\n",
       "      <td>212</td>\n",
       "      <td>4500</td>\n",
       "      <td>2430</td>\n",
       "      <td>698</td>\n",
       "      <td>2430</td>\n",
       "      <td>...</td>\n",
       "      <td>1</td>\n",
       "      <td>0</td>\n",
       "      <td>1</td>\n",
       "      <td>1</td>\n",
       "      <td>0</td>\n",
       "      <td>6</td>\n",
       "      <td>9</td>\n",
       "      <td>8</td>\n",
       "      <td>4</td>\n",
       "      <td>31</td>\n",
       "    </tr>\n",
       "  </tbody>\n",
       "</table>\n",
       "<p>5 rows × 24 columns</p>\n",
       "</div>"
      ],
      "text/plain": [
       "   site1  site2  site3  site4  site5  site6  site7  site8  site9  site10  \\\n",
       "0    192    587    133      3    133    133      3    133    203     133   \n",
       "1    416    193    693    254    133     31    400   3533    219      55   \n",
       "2     55      3     55     55      5    294    416    340    901      55   \n",
       "3    475   3407    475     55     55     55     55    945    201     123   \n",
       "4    342     55      5   4494    258    212   4500   2430    698    2430   \n",
       "\n",
       "    ...    diff5  diff6  diff7  diff8  diff9  session_timespan  #unique_sites  \\\n",
       "0   ...       20      1      0      1      0                33              5   \n",
       "1   ...        0      1      3      3      8               284             10   \n",
       "2   ...        0      0      1      0      0               258              7   \n",
       "3   ...       25      1      0      0      0                30              6   \n",
       "4   ...        1      0      1      1      0                 6              9   \n",
       "\n",
       "   start_hour  day_of_week  target  \n",
       "0           8            4      31  \n",
       "1           8            4      31  \n",
       "2           8            4      31  \n",
       "3           8            4      31  \n",
       "4           8            4      31  \n",
       "\n",
       "[5 rows x 24 columns]"
      ]
     },
     "execution_count": 31,
     "metadata": {},
     "output_type": "execute_result"
    }
   ],
   "source": [
    "train_data_10users.head()"
   ]
  },
  {
   "cell_type": "markdown",
   "metadata": {},
   "source": [
    "**Применим функцию prepare_train_set_with_fe к данным по 150 пользователям, укажем session_length=10**"
   ]
  },
  {
   "cell_type": "code",
   "execution_count": 33,
   "metadata": {},
   "outputs": [
    {
     "data": {
      "application/vnd.jupyter.widget-view+json": {
       "model_id": "d8e08a708ef84855b7fa95b4d16b5315",
       "version_major": 2,
       "version_minor": 0
      },
      "text/plain": [
       "HBox(children=(IntProgress(value=0, max=150), HTML(value='')))"
      ]
     },
     "metadata": {},
     "output_type": "display_data"
    },
    {
     "name": "stdout",
     "output_type": "stream",
     "text": [
      "\n"
     ]
    },
    {
     "data": {
      "application/vnd.jupyter.widget-view+json": {
       "model_id": "3b2c4ab5b70f4a9898d6ffe80fd882e2",
       "version_major": 2,
       "version_minor": 0
      },
      "text/plain": [
       "HBox(children=(IntProgress(value=1, bar_style='info', max=1), HTML(value='')))"
      ]
     },
     "metadata": {},
     "output_type": "display_data"
    },
    {
     "name": "stdout",
     "output_type": "stream",
     "text": [
      "\n",
      "Wall time: 1min 30s\n"
     ]
    }
   ],
   "source": [
    "%%time\n",
    "n_user = 150\n",
    "train_data_150users = prepare_train_set_with_fe(os.path.join(PATH_TO_DATA, \n",
    "                                                         '%dusers' % n_user), \n",
    "                  site_freq_path=os.path.join(PATH_TO_DATA, \n",
    "                                              'site_freq_%dusers.pkl' % n_user),\n",
    "                  feature_names=feature_names, session_length=10)"
   ]
  },
  {
   "cell_type": "code",
   "execution_count": 36,
   "metadata": {},
   "outputs": [],
   "source": [
    "new_features_10users = train_data_10users[['session_timespan', '#unique_sites', 'start_hour', \n",
    "                                                'day_of_week']]\n",
    "new_features_150users = train_data_150users[['session_timespan', '#unique_sites', 'start_hour', \n",
    "                                                'day_of_week']]"
   ]
  },
  {
   "cell_type": "markdown",
   "metadata": {},
   "source": [
    "Выведем медианную продолжительность сессии (session_timespan) для сессий 10 пользователей."
   ]
  },
  {
   "cell_type": "code",
   "execution_count": 37,
   "metadata": {},
   "outputs": [
    {
     "name": "stdout",
     "output_type": "stream",
     "text": [
      "median for time span session:  37.0\n"
     ]
    }
   ],
   "source": [
    "print('median for time span session: ', np.median(np.array(new_features_10users.session_timespan.values)))"
   ]
  },
  {
   "cell_type": "markdown",
   "metadata": {},
   "source": [
    "Выведием медианный день недели, в который началась сессия, для сессий 10 пользователей."
   ]
  },
  {
   "cell_type": "code",
   "execution_count": 38,
   "metadata": {},
   "outputs": [
    {
     "name": "stdout",
     "output_type": "stream",
     "text": [
      "median for day of week in session:  2.0\n"
     ]
    }
   ],
   "source": [
    "print('median for day of week in session: ', np.median(np.array(new_features_10users.day_of_week.values)))"
   ]
  },
  {
   "cell_type": "markdown",
   "metadata": {},
   "source": [
    "Выведем медианную продолжительность сессии (session_timespan) для сессий 150 пользователей."
   ]
  },
  {
   "cell_type": "code",
   "execution_count": 39,
   "metadata": {},
   "outputs": [
    {
     "name": "stdout",
     "output_type": "stream",
     "text": [
      "median for start hour in session:  13.0\n"
     ]
    }
   ],
   "source": [
    "print('median for start hour in session: ', np.median(np.array(new_features_150users.start_hour.values)))"
   ]
  },
  {
   "cell_type": "markdown",
   "metadata": {},
   "source": [
    "Выведием медианный день недели, в который началась сессия, для сессий 150 пользователей."
   ]
  },
  {
   "cell_type": "code",
   "execution_count": 41,
   "metadata": {},
   "outputs": [
    {
     "name": "stdout",
     "output_type": "stream",
     "text": [
      "median for number unique sites in session:  7.0\n"
     ]
    }
   ],
   "source": [
    "print('median for number unique sites in session: ', np.median(np.array(new_features_150users['#unique_sites'].values)))"
   ]
  },
  {
   "cell_type": "markdown",
   "metadata": {},
   "source": [
    "## Визуальный анализ данных"
   ]
  },
  {
   "cell_type": "markdown",
   "metadata": {},
   "source": [
    "Дадим пользователям имена"
   ]
  },
  {
   "cell_type": "code",
   "execution_count": 45,
   "metadata": {},
   "outputs": [],
   "source": [
    "id_name_dict = {128: 'Mary-Kate', 39: 'Ashley', 207: 'Lindsey', 127: 'Naomi', 237: 'Avril',\n",
    "               33: 'Bob', 50: 'Bill', 31: 'John', 100: 'Dick', 241: 'Ed'}\n",
    "train_data_10users['target'] = train_data_10users['target'].map(id_name_dict)\n",
    "\n",
    "color_dic = {'Mary-Kate': 'pink', 'Ashley': 'darkviolet', 'Lindsey':'blueviolet', \n",
    "             'Naomi': 'hotpink', 'Avril': 'orchid', \n",
    "             'Bob': 'firebrick', 'Bill': 'gold', 'John': 'forestgreen', \n",
    "             'Dick': 'slategrey', 'Ed':'brown'}"
   ]
  },
  {
   "cell_type": "markdown",
   "metadata": {},
   "source": [
    "Построим гистограмму распределения длины сессии в секундах (session_timespan). Ограничим по x* значением 200 (иначе слишком тяжелый хвост)."
   ]
  },
  {
   "cell_type": "code",
   "execution_count": 42,
   "metadata": {},
   "outputs": [
    {
     "data": {
      "text/plain": [
       "Text(0.5, 0, 'Длина сессии в секундах')"
      ]
     },
     "execution_count": 42,
     "metadata": {},
     "output_type": "execute_result"
    },
    {
     "data": {
      "image/png": "[encoded data removed]",
      "text/plain": [
       "<Figure size 432x288 with 1 Axes>"
      ]
     },
     "metadata": {
      "needs_background": "light"
     },
     "output_type": "display_data"
    }
   ],
   "source": [
    "train_data_10users[ train_data_10users['session_timespan'] <= 200].session_timespan.hist(color = 'darkviolet')\n",
    "plt.ylabel('Частота')\n",
    "plt.xlabel('Длина сессии в секундах')"
   ]
  },
  {
   "cell_type": "markdown",
   "metadata": {},
   "source": [
    "Построим гистограмму распределения числа уникальных сайтов в сессии (#unique_sites). "
   ]
  },
  {
   "cell_type": "code",
   "execution_count": 43,
   "metadata": {},
   "outputs": [
    {
     "data": {
      "text/plain": [
       "Text(0, 0.5, 'Частота')"
      ]
     },
     "execution_count": 43,
     "metadata": {},
     "output_type": "execute_result"
    },
    {
     "data": {
      "image/png": "[encoded data removed]",
      "text/plain": [
       "<Figure size 432x288 with 1 Axes>"
      ]
     },
     "metadata": {
      "needs_background": "light"
     },
     "output_type": "display_data"
    }
   ],
   "source": [
    "train_data_10users['#unique_sites'].hist(color = 'aqua')\n",
    "plt.xlabel('Число уникальных сессий')\n",
    "plt.ylabel('Частота')"
   ]
  },
  {
   "cell_type": "markdown",
   "metadata": {},
   "source": [
    "Постройим гистограммы распределения числа уникальных сайтов в сессии (#unique_sites) для каждого из 10 пользователей по отдельности"
   ]
  },
  {
   "cell_type": "code",
   "execution_count": 46,
   "metadata": {},
   "outputs": [
    {
     "data": {
      "image/png": "[encoded data removed]",
      "text/plain": [
       "<Figure size 1152x720 with 12 Axes>"
      ]
     },
     "metadata": {
      "needs_background": "light"
     },
     "output_type": "display_data"
    }
   ],
   "source": [
    "fig, axes = plt.subplots(nrows=3, ncols=4, figsize=(16, 10))\n",
    "\n",
    "for idx, (user, sub_df) in  enumerate(pd.groupby(train_data_10users, 'target')): \n",
    "    j = idx % (4)\n",
    "    i = idx // 4\n",
    "    axes[i,j].hist(sub_df['#unique_sites'], color = color_dic[user])\n",
    "    axes[i,j].legend([user])\n",
    "    axes[i,j].set_xlabel('Число уникальных сайтов в сессии')\n",
    "    axes[i,j].set_ylabel('Частота')"
   ]
  },
  {
   "cell_type": "markdown",
   "metadata": {},
   "source": [
    "Построим гистограмму распределения часа начала сессии (start_hour)."
   ]
  },
  {
   "cell_type": "code",
   "execution_count": 47,
   "metadata": {},
   "outputs": [
    {
     "data": {
      "text/plain": [
       "Text(0, 0.5, 'Частота')"
      ]
     },
     "execution_count": 47,
     "metadata": {},
     "output_type": "execute_result"
    },
    {
     "data": {
      "image/png": "[encoded data removed]",
      "text/plain": [
       "<Figure size 432x288 with 1 Axes>"
      ]
     },
     "metadata": {
      "needs_background": "light"
     },
     "output_type": "display_data"
    }
   ],
   "source": [
    "train_data_10users['start_hour'].hist(color = 'darkgreen')\n",
    "plt.xlabel('Час начала сессии')\n",
    "plt.ylabel('Частота')"
   ]
  },
  {
   "cell_type": "markdown",
   "metadata": {},
   "source": [
    "Построим гистограммы распределения часа начала сессии (start_hour) для каждого из 10 пользователей по отдельности."
   ]
  },
  {
   "cell_type": "code",
   "execution_count": 64,
   "metadata": {},
   "outputs": [
    {
     "data": {
      "image/png": "[encoded data removed]",
      "text/plain": [
       "<Figure size 1152x720 with 12 Axes>"
      ]
     },
     "metadata": {
      "needs_background": "light"
     },
     "output_type": "display_data"
    }
   ],
   "source": [
    "fig, axes = plt.subplots(nrows=3, ncols=4, figsize=(16, 10))\n",
    "\n",
    "for idx, (user, sub_df) in  enumerate(pd.groupby(train_data_10users, 'target')): \n",
    "    j = idx % (4)\n",
    "    i = idx // 4\n",
    "    axes[i,j].hist(sub_df['start_hour'], color = color_dic[user], edgecolor='black')\n",
    "    axes[i,j].legend([user])\n",
    "    axes[i,j].set_xlabel('Час начала сессии')\n",
    "    axes[i,j].set_ylabel('Частота')"
   ]
  },
  {
   "cell_type": "markdown",
   "metadata": {},
   "source": [
    "Построим гистограмму распределения дня недели, в который началась сессия (day_of_week)"
   ]
  },
  {
   "cell_type": "code",
   "execution_count": 49,
   "metadata": {},
   "outputs": [
    {
     "data": {
      "text/plain": [
       "Text(0, 0.5, 'Частота')"
      ]
     },
     "execution_count": 49,
     "metadata": {},
     "output_type": "execute_result"
    },
    {
     "data": {
      "image/png": "[encoded data removed]",
      "text/plain": [
       "<Figure size 432x288 with 1 Axes>"
      ]
     },
     "metadata": {
      "needs_background": "light"
     },
     "output_type": "display_data"
    }
   ],
   "source": [
    "train_data_10users['day_of_week'].hist(color ='sienna')\n",
    "plt.xlabel('День недели начала сессии')\n",
    "plt.ylabel('Частота')"
   ]
  },
  {
   "cell_type": "markdown",
   "metadata": {},
   "source": [
    " Построим гистограммы распределения дня недели, в который началась сессия (day_of_week) для каждого из 10 пользователей по отдельности"
   ]
  },
  {
   "cell_type": "code",
   "execution_count": 62,
   "metadata": {},
   "outputs": [
    {
     "data": {
      "image/png": "[encoded data removed]",
      "text/plain": [
       "<Figure size 1152x720 with 12 Axes>"
      ]
     },
     "metadata": {
      "needs_background": "light"
     },
     "output_type": "display_data"
    }
   ],
   "source": [
    "fig, axes = plt.subplots(nrows=3, ncols=4, figsize=(16, 10))\n",
    "\n",
    "for idx, (user, sub_df) in  enumerate(pd.groupby(train_data_10users, 'target')): \n",
    "    j = idx % (4)\n",
    "    i = idx // 4\n",
    "    \n",
    "    axes[i,j].hist(sub_df['day_of_week'], color = color_dic[user], edgecolor='black', bins=np.arange(8) - 0.5)\n",
    "    axes[i,j].set_xticks(range(7))\n",
    "    axes[i,j].set_xticklabels(['Пн','Вт','Ср','Чт','Пт','Сб','Вс'])\n",
    "    axes[i,j].legend([user])\n",
    "    axes[i,j].set_xlabel('День недели начала сессии')\n",
    "    axes[i,j].set_ylabel('Частота')"
   ]
  },
  {
   "cell_type": "markdown",
   "metadata": {},
   "source": [
    "**Выводы про каждого пользователя по построенным графикам.**"
   ]
  },
  {
   "cell_type": "markdown",
   "metadata": {},
   "source": [
    "1. Число уникальных сессий распределено нормально, это хорошо, в будущем можно будет проверить различные гипотезы.\n",
    "\n",
    "   - Avril, Bob, Ed, John, Lindsey, Naomi -- у них сессии число сайтов в сессии распределено примерно одинаково, похоже на нормальное.\n",
    "   - Ashly, Bill почему-то часто зохоли на один сайт... интересно какой же?\n",
    "   - Dick, Mary-Kate - и вовсе часто зависали на двух сайтах. Что-то тут странное. \n",
    "\n",
    "2. По началу сессии все относительно адекватно. Люди чаще заходят на сайты в рабочее время\n",
    "   - Ashley и Bob чаще заходят утром,\n",
    "   - Avril, Ed, John, Lindsey, Naomi - чаще днем\n",
    "   - Bill - странный тип, максималбная активность в течение 1 часа(15 часов) максимально активен и утром, но не так\n",
    "   - Mary-Kate активируется ближе к вечеру\n",
    "   - Dick активен постоянно... \n",
    "3. Распределение выглядит, как нормальное. То есть в среду заходили чаще всего, а вначале и в конце недели реже всего\n",
    "   - Ashley, Avril, Ed, Lindsey, Bill, Naomi часто заходят в отдельные дни  по будням\n",
    "   - Mary-Kate, Bob, Dick, John чаще заходят по выходным, все понятно с ними"
   ]
  },
  {
   "cell_type": "markdown",
   "metadata": {},
   "source": [
    "Посмотрим, куда же это Marry-Kate и Dick так часто заходят:"
   ]
  },
  {
   "cell_type": "code",
   "execution_count": 54,
   "metadata": {},
   "outputs": [
    {
     "name": "stdout",
     "output_type": "stream",
     "text": [
      "Mary-Kate чаще всего заходит на s.youtube.com\n",
      "Dick чаще всего заходит на s.youtube.com\n"
     ]
    }
   ],
   "source": [
    "#128: 'Mary-Kate' 100: 'Dick'\n",
    "PATH_TO_DATA = \"C:/Users/Raz/Kurs_ML/Final/Identif_Inet_user/capstone_user_identification/\"\n",
    "tmpl = os.path.join(PATH_TO_DATA, '10users/user0128.csv')\n",
    "data = pd.read_csv(tmpl)\n",
    "data.site.value_counts().index[0]\n",
    "print('Mary-Kate чаще всего заходит на', data.site.value_counts().index[0])\n",
    "tmpl1 = os.path.join(PATH_TO_DATA, '10users/user0100.csv')\n",
    "data1 = pd.read_csv(tmpl1)\n",
    "print('Dick чаще всего заходит на', data1.site.value_counts().index[0])"
   ]
  },
  {
   "cell_type": "markdown",
   "metadata": {},
   "source": [
    "Все с ними понятно"
   ]
  },
  {
   "cell_type": "markdown",
   "metadata": {},
   "source": [
    "**Определиим топ-10 самых посещаемых сайтов (top10_sites) и соответствующие кол-ва посещений (top10_freqs).**"
   ]
  },
  {
   "cell_type": "code",
   "execution_count": 56,
   "metadata": {},
   "outputs": [],
   "source": [
    "site_freq_path = os.path.join(PATH_TO_DATA, r'site_freq_10users.pkl')\n",
    "frequency = pd.read_pickle(site_freq_path)\n",
    "\n",
    "top10_sites = list(frequency.keys())[:10]\n",
    "top10_freqs = [frequency[top10_sites[x]][1] for x in range(0,10)]"
   ]
  },
  {
   "cell_type": "code",
   "execution_count": 68,
   "metadata": {},
   "outputs": [
    {
     "data": {
      "text/plain": [
       "(array([0, 1, 2, 3, 4, 5, 6, 7, 8, 9]), <a list of 10 Text xticklabel objects>)"
      ]
     },
     "execution_count": 68,
     "metadata": {},
     "output_type": "execute_result"
    },
    {
     "data": {
      "image/png": "[encoded data removed]",
      "text/plain": [
       "<Figure size 576x432 with 1 Axes>"
      ]
     },
     "metadata": {
      "needs_background": "light"
     },
     "output_type": "display_data"
    }
   ],
   "source": [
    "fig, ax = plt.subplots(figsize=(8, 6))\n",
    "sns.barplot(x = top10_sites, y = top10_freqs)\n",
    "plt.xticks(rotation = 'vertical')"
   ]
  },
  {
   "cell_type": "markdown",
   "metadata": {},
   "source": [
    "## Сравнение алгоритмов классификации"
   ]
  },
  {
   "cell_type": "markdown",
   "metadata": {},
   "source": [
    "Теперь перейдем к обучению моделей классификации, сравним на кросс-валидации несколько алгоритмов, разберемся, какие параметры длины сессии (session_length и window_size) лучше использовать. Также для выбранного алгоритма построим кривые валидации (как качество классификации зависит от одного из гиперпараметров алгоритма) и кривые обучения (как качество классификации зависит от объема выборки)."
   ]
  },
  {
   "cell_type": "code",
   "execution_count": 92,
   "metadata": {},
   "outputs": [],
   "source": [
    "with open(os.path.join(PATH_TO_DATA, \n",
    "         'X_sparse_10users.pkl'), 'rb') as X_sparse_10users_pkl:\n",
    "    X_sparse_10users = pickle.load(X_sparse_10users_pkl)\n",
    "with open(os.path.join(PATH_TO_DATA, \n",
    "                       'y_10users.pkl'), 'rb') as y_10users_pkl:\n",
    "    y_10users = pickle.load(y_10users_pkl)"
   ]
  },
  {
   "cell_type": "markdown",
   "metadata": {},
   "source": [
    "**Здесь более 14 тысяч сессий и почти 5 тысяч уникальных посещенных сайтов.**"
   ]
  },
  {
   "cell_type": "code",
   "execution_count": 93,
   "metadata": {},
   "outputs": [
    {
     "data": {
      "text/plain": [
       "(14061, 4913)"
      ]
     },
     "execution_count": 93,
     "metadata": {},
     "output_type": "execute_result"
    }
   ],
   "source": [
    "X_sparse_10users.shape"
   ]
  },
  {
   "cell_type": "markdown",
   "metadata": {},
   "source": [
    "**Разобьем выборку на 2 части. На одной будем проводить кросс-валидацию, на второй – оценивать модель, обученную после кросс-валидации.**"
   ]
  },
  {
   "cell_type": "code",
   "execution_count": 94,
   "metadata": {},
   "outputs": [],
   "source": [
    "X_train, X_valid, y_train, y_valid = train_test_split(X_sparse_10users, y_10users, \n",
    "                                                      test_size=0.3, \n",
    "                                                     random_state=17, stratify=y_10users)"
   ]
  },
  {
   "cell_type": "markdown",
   "metadata": {},
   "source": [
    "**Зададим заранее тип кросс-валидации: 3-кратная, с перемешиванием, параметр random_state=17 – для воспроизводимости.**"
   ]
  },
  {
   "cell_type": "code",
   "execution_count": 95,
   "metadata": {},
   "outputs": [],
   "source": [
    "skf = StratifiedKFold(n_splits=3, shuffle=True, random_state=17)"
   ]
  },
  {
   "cell_type": "markdown",
   "metadata": {},
   "source": [
    "**Вспомогательная функция для отрисовки кривых валидации после запуска GridSearchCV (или RandomizedCV).**"
   ]
  },
  {
   "cell_type": "code",
   "execution_count": 97,
   "metadata": {},
   "outputs": [],
   "source": [
    "def plot_validation_curves(param_values, grid_cv_results_):\n",
    "    train_mu, train_std = grid_cv_results_['mean_train_score'], grid_cv_results_['std_train_score']\n",
    "    valid_mu, valid_std = grid_cv_results_['mean_test_score'], grid_cv_results_['std_test_score']\n",
    "    train_line = plt.plot(param_values, train_mu, '-', label='train', color='green')\n",
    "    valid_line = plt.plot(param_values, valid_mu, '-', label='test', color='red')\n",
    "    plt.fill_between(param_values, train_mu - train_std, train_mu + train_std, edgecolor='none',\n",
    "                     facecolor=train_line[0].get_color(), alpha=0.2)\n",
    "    plt.fill_between(param_values, valid_mu - valid_std, valid_mu + valid_std, edgecolor='none',\n",
    "                     facecolor=valid_line[0].get_color(), alpha=0.2)\n",
    "    plt.legend()"
   ]
  },
  {
   "cell_type": "markdown",
   "metadata": {},
   "source": [
    "**1. Обучим `KNeighborsClassifier` со 100 ближайшими соседями (остальные параметры оставим по умолчанию, только `n_jobs`=-1 для распараллеливания) и посмотрим на долю правильных ответов на 3-кратной кросс-валидации**"
   ]
  },
  {
   "cell_type": "code",
   "execution_count": 99,
   "metadata": {},
   "outputs": [
    {
     "name": "stdout",
     "output_type": "stream",
     "text": [
      "0.5646666666666667\n",
      "[0.487 0.498 0.508]\n",
      "Wall time: 8.13 s\n"
     ]
    }
   ],
   "source": [
    "%%time\n",
    "knn = KNeighborsClassifier(n_neighbors=100)\n",
    "result_knn_t = cross_val_score(knn, X_train, y_train, cv = skf, scoring  = 'accuracy')\n",
    "result_knn_t = np.round(result_knn_t, 3)\n",
    "print(np.round(result_knn_t, 3).mean())\n",
    "result_knn_v = cross_val_score(knn, X_valid, y_valid, cv = skf, scoring  = 'accuracy')\n",
    "print(np.round(result_knn_v, 3))"
   ]
  },
  {
   "cell_type": "markdown",
   "metadata": {},
   "source": [
    "**Посчитайем доли правильных ответов для KNeighborsClassifier на кросс-валидации и отложенной выборке.**"
   ]
  },
  {
   "cell_type": "code",
   "execution_count": 100,
   "metadata": {},
   "outputs": [
    {
     "name": "stdout",
     "output_type": "stream",
     "text": [
      "0.584024650391088\n",
      "results on train:  0.565\n",
      "results on valid:  0.498\n"
     ]
    }
   ],
   "source": [
    "knn.fit(X_train, y_train)\n",
    "print(accuracy_score(y_valid, knn.predict(X_valid)).mean())\n",
    "print('results on train: ',np.round(result_knn_t.mean(), 3))\n",
    "print('results on valid: ',np.round(result_knn_v.mean(),3))"
   ]
  },
  {
   "cell_type": "markdown",
   "metadata": {},
   "source": [
    "**2. Обучиим случайный лес (`RandomForestClassifier`) из 100 деревьев (для воспроизводимости `random_state`=17). Посмотрим на OOB-оценку (для этого надо сразу установить `oob_score`=True) и на долю правильных ответов на выборке `(X_valid, y_valid)`.**"
   ]
  },
  {
   "cell_type": "code",
   "execution_count": 105,
   "metadata": {},
   "outputs": [
    {
     "name": "stdout",
     "output_type": "stream",
     "text": [
      "OOB score:  0.729\n",
      "results on valid:  0.734\n",
      "Wall time: 2min 16s\n"
     ]
    }
   ],
   "source": [
    "%%time\n",
    "forest = RandomForestClassifier(n_estimators=100, random_state=17, oob_score = True)\n",
    "result_t = cross_val_score(forest, X_sparse_10users, y_10users, cv = skf)\n",
    "result_t = np.round(result_t.mean(),3)\n",
    "forest.fit(X_train, y_train)\n",
    "y_pred_t = forest.predict(X_valid)\n",
    "print('OOB score: ', result_t)\n",
    "print('results on valid: ', np.round(accuracy_score(y_valid, y_pred_t),3))"
   ]
  },
  {
   "cell_type": "markdown",
   "metadata": {},
   "source": [
    "**3. Обучиbv логистическую регрессию (`LogisticRegression`) с параметром `C` по умолчанию и `random_state`=17 (для воспроизводимости). Посмотриим на долю правильных ответов на кросс-валидации.**"
   ]
  },
  {
   "cell_type": "code",
   "execution_count": null,
   "metadata": {},
   "outputs": [],
   "source": [
    "%%time\n",
    "logit = LogisticRegression(random_state=17)\n",
    "res_log = cross_val_score(logit, X_sparse_10users, y_10users, cv = skf)\n",
    "res_log_cr_v = np.round(res_log.mean(),3)\n",
    "logit.fit(X_train, y_train)\n",
    "pred_logit = logit.predict(X_valid)\n",
    "acc_logit = np.round(accuracy_score(y_valid, pred_logit),3)\n",
    "print('results on cross validation: ',res_log_cr_v)\n",
    "print('results on valid: ', acc_logit)"
   ]
  },
  {
   "cell_type": "markdown",
   "metadata": {},
   "source": [
    "Проейдемся по сетке параметра `C` для логистической регрессии"
   ]
  },
  {
   "cell_type": "code",
   "execution_count": 111,
   "metadata": {},
   "outputs": [
    {
     "name": "stdout",
     "output_type": "stream",
     "text": [
      "Wall time: 1min 46s\n"
     ]
    }
   ],
   "source": [
    "%%time\n",
    "logit_c_values = list(np.logspace(-4, 2, 10))\n",
    "\n",
    "logit_grid_searcher = LogisticRegressionCV(Cs = logit_c_values, cv = skf, random_state=17, multi_class = 'multinomial')\n",
    "logit_grid_searcher.fit(X_train, y_train)"
   ]
  },
  {
   "cell_type": "code",
   "execution_count": 135,
   "metadata": {},
   "outputs": [
    {
     "data": {
      "image/png": "[encoded data removed]",
      "text/plain": [
       "<Figure size 432x288 with 1 Axes>"
      ]
     },
     "metadata": {
      "needs_background": "light"
     },
     "output_type": "display_data"
    }
   ],
   "source": [
    "y_sc = np.mean(np.array(logit_grid_searcher.scores_[31]), axis  = 0)\n",
    "plt.plot(logit_c_values, y_sc, ls = '--')\n",
    "plt.grid()"
   ]
  },
  {
   "cell_type": "markdown",
   "metadata": {},
   "source": [
    "Лучшее значение доли правильных ответов на кросс-валидации и соответствующее значение `C`"
   ]
  },
  {
   "cell_type": "code",
   "execution_count": 137,
   "metadata": {},
   "outputs": [
    {
     "name": "stdout",
     "output_type": "stream",
     "text": [
      "Best y =  0.759300410549952\n",
      "C =  1.0\n"
     ]
    }
   ],
   "source": [
    "print('Best y = ', y_sc.max())\n",
    "print('C = ', logit_c_values1[y_sc.argmax()])"
   ]
  },
  {
   "cell_type": "markdown",
   "metadata": {},
   "source": [
    "**Теперь то же самое, только значения параметра `C` перебирайте в диапазоне `np.linspace`(0.1, 7, 20).**"
   ]
  },
  {
   "cell_type": "code",
   "execution_count": 139,
   "metadata": {},
   "outputs": [
    {
     "name": "stdout",
     "output_type": "stream",
     "text": [
      "Wall time: 5min 52s\n"
     ]
    }
   ],
   "source": [
    "%%time\n",
    "logit_c_values2 = np.linspace(0.1, 7, 20)\n",
    "\n",
    "logit_grid_searcher2 = LogisticRegressionCV (Cs = logit_c_values2, cv = skf, random_state=17, multi_class = 'multinomial')\n",
    "logit_grid_searcher2.fit(X_train, y_train)"
   ]
  },
  {
   "cell_type": "markdown",
   "metadata": {},
   "source": [
    "Средние значения доли правильных ответов на кросс-валидации по каждому из 10 параметров `C`."
   ]
  },
  {
   "cell_type": "code",
   "execution_count": 144,
   "metadata": {},
   "outputs": [
    {
     "data": {
      "text/plain": [
       "array([0.7354267 , 0.75868969, 0.75858949, 0.75787777, 0.75818317,\n",
       "       0.75798073, 0.75808257, 0.75747337, 0.75696583, 0.75696642,\n",
       "       0.75696669, 0.75666178, 0.75584924, 0.75564627, 0.75524069,\n",
       "       0.75453042, 0.75483549, 0.75463236, 0.75432754, 0.75381935])"
      ]
     },
     "execution_count": 144,
     "metadata": {},
     "output_type": "execute_result"
    }
   ],
   "source": [
    "logit_mean_cv_scores2 = np.mean(np.array(logit_grid_searcher2.scores_[31]), axis  = 0)\n",
    "logit_mean_cv_scores2"
   ]
  },
  {
   "cell_type": "markdown",
   "metadata": {},
   "source": [
    "Лучшее значение доли правильных ответов на кросс-валидации и соответствующее значение C."
   ]
  },
  {
   "cell_type": "code",
   "execution_count": 145,
   "metadata": {},
   "outputs": [
    {
     "name": "stdout",
     "output_type": "stream",
     "text": [
      "0.759\n",
      "0.4631578947368421\n"
     ]
    }
   ],
   "source": [
    "print(np.round(logit_mean_cv_scores2.max(),3))\n",
    "print(logit_c_values2[logit_mean_cv_scores2.argmax()])"
   ]
  },
  {
   "cell_type": "markdown",
   "metadata": {},
   "source": [
    "График зависимости доли правильных ответов на кросс-валидации от `C`."
   ]
  },
  {
   "cell_type": "code",
   "execution_count": 146,
   "metadata": {},
   "outputs": [
    {
     "data": {
      "image/png": "[encoded data removed]",
      "text/plain": [
       "<Figure size 432x288 with 1 Axes>"
      ]
     },
     "metadata": {
      "needs_background": "light"
     },
     "output_type": "display_data"
    }
   ],
   "source": [
    "plt.plot(logit_c_values2, logit_mean_cv_scores2);"
   ]
  },
  {
   "cell_type": "markdown",
   "metadata": {},
   "source": [
    "Доля правильных ответов на выборке `(X_valid, y_valid)` для логистической регрессии с лучшим найденным значением `C`."
   ]
  },
  {
   "cell_type": "code",
   "execution_count": 147,
   "metadata": {},
   "outputs": [
    {
     "data": {
      "text/plain": [
       "0.7748281583313581"
      ]
     },
     "execution_count": 147,
     "metadata": {},
     "output_type": "execute_result"
    }
   ],
   "source": [
    "y_c_pred = logit_grid_searcher2.predict(X_valid)\n",
    "logit_cv_acc = accuracy_score(y_valid, y_c_pred)\n",
    "logit_cv_acc"
   ]
  },
  {
   "cell_type": "markdown",
   "metadata": {},
   "source": [
    "**4. Обучим линейный SVM (`LinearSVC`) с параметром `C`=1 и `random_state`=17 (для воспроизводимости). Посмотрим на долю правильных ответов на кросс-валидации.**"
   ]
  },
  {
   "cell_type": "code",
   "execution_count": 149,
   "metadata": {},
   "outputs": [
    {
     "name": "stdout",
     "output_type": "stream",
     "text": [
      "result on cross validation:  0.773\n",
      "result on valid:  0.777\n",
      "Wall time: 31.5 s\n"
     ]
    }
   ],
   "source": [
    "%%time\n",
    "svm = LinearSVC(C = 1, random_state=17)\n",
    "\n",
    "svn_cv = cross_val_score(svm, X_sparse_10users, y_10users, cv = skf)\n",
    "svn_cv = np.round(svn_cv.mean(),3)\n",
    "print('result on cross validation: ', svn_cv)\n",
    "svm.fit(X_train, y_train)\n",
    "pred_svn = svm.predict(X_valid)\n",
    "acc_pred_svn = np.round(accuracy_score(y_valid, pred_svn),3)\n",
    "print('result on valid: ', acc_pred_svn)"
   ]
  },
  {
   "cell_type": "markdown",
   "metadata": {},
   "source": [
    "**С помощью `GridSearchCV` подберем параметр `C` для SVM сначала в широком диапазоне: 10 значений от 1e-4 до 1e4, используйте `linspace` из NumPy. Нарисуем кривые валидации.**"
   ]
  },
  {
   "cell_type": "code",
   "execution_count": 150,
   "metadata": {},
   "outputs": [
    {
     "name": "stdout",
     "output_type": "stream",
     "text": [
      "Wall time: 3min 28s\n"
     ]
    }
   ],
   "source": [
    "%%time\n",
    "svm_params1 = {'C': np.linspace(1e-4, 1e4, 10)}\n",
    "\n",
    "svm_grid_searcher1 = GridSearchCV(svm, param_grid=svm_params1, cv = skf)\n",
    "smv_s = svm_grid_searcher1.fit(X_train, y_train)"
   ]
  },
  {
   "cell_type": "markdown",
   "metadata": {},
   "source": [
    "Выведите лучшее значение доли правильных ответов на кросс-валидации и соответствующее значение `C`."
   ]
  },
  {
   "cell_type": "code",
   "execution_count": 151,
   "metadata": {},
   "outputs": [
    {
     "name": "stdout",
     "output_type": "stream",
     "text": [
      "Best csore 0.6845153424100793\n",
      "C =  {'C': 3333.3334000000004}\n"
     ]
    }
   ],
   "source": [
    "print('Best csore',svm_grid_searcher1.best_score_)\n",
    "print('C = ',svm_grid_searcher1.best_params_)"
   ]
  },
  {
   "cell_type": "code",
   "execution_count": 152,
   "metadata": {},
   "outputs": [
    {
     "data": {
      "image/png": "[encoded data removed]",
      "text/plain": [
       "<Figure size 432x288 with 1 Axes>"
      ]
     },
     "metadata": {
      "needs_background": "light"
     },
     "output_type": "display_data"
    }
   ],
   "source": [
    "plt.plot(np.linspace(1e-4, 1e4, 10), smv_s.cv_results_['mean_test_score'])\n",
    "plt.grid()"
   ]
  },
  {
   "cell_type": "markdown",
   "metadata": {},
   "source": [
    "Нарисуйем график зависимости доли правильных ответов на кросс-валидации от `C`."
   ]
  },
  {
   "cell_type": "code",
   "execution_count": 153,
   "metadata": {},
   "outputs": [
    {
     "data": {
      "image/png": "[encoded data removed]",
      "text/plain": [
       "<Figure size 432x288 with 1 Axes>"
      ]
     },
     "metadata": {
      "needs_background": "light"
     },
     "output_type": "display_data"
    }
   ],
   "source": [
    "plot_validation_curves(svm_params1['C'], svm_grid_searcher1.cv_results_)"
   ]
  },
  {
   "cell_type": "markdown",
   "metadata": {},
   "source": [
    "**Но мы помним, что с параметром регуляризации по умолчанию (С=1) на кросс-валидации доля правильных ответов выше. Это тот случай (не редкий), когда можно ошибиться и перебирать параметры не в том диапазоне (причина в том, что мы взяли равномерную сетку на большом интервале и упустили действительно хороший интервал значений `C`). Здесь намного осмысленней подбирать `C` в районе 1, к тому же, так модель быстрее обучается, чем при больших `C`. **\n",
    "\n",
    "**С помощью `GridSearchCV` подбериtv параметр `C` для SVM в диапазоне (1e-3, 1), 30 значений, используйем `linspace` из NumPy. Нарисуйем кривые валидации.**"
   ]
  },
  {
   "cell_type": "code",
   "execution_count": 154,
   "metadata": {},
   "outputs": [
    {
     "name": "stdout",
     "output_type": "stream",
     "text": [
      "Wall time: 5min 34s\n"
     ]
    }
   ],
   "source": [
    "%%time\n",
    "svm_params2 = {'C': np.linspace(1e-3, 1, 30)}\n",
    "\n",
    "svm_grid_searcher2 = GridSearchCV(svm, param_grid=svm_params2, cv = skf)\n",
    "svm_grid_searcher2.fit(X_train, y_train)"
   ]
  },
  {
   "cell_type": "markdown",
   "metadata": {},
   "source": [
    "Выведием лучшее значение доли правильных ответов на кросс-валидации и соответствующее значение `C`."
   ]
  },
  {
   "cell_type": "code",
   "execution_count": 155,
   "metadata": {},
   "outputs": [
    {
     "name": "stdout",
     "output_type": "stream",
     "text": [
      "0.764681975208291\n",
      "{'C': 0.10434482758620689}\n"
     ]
    }
   ],
   "source": [
    "print(svm_grid_searcher2.best_score_)\n",
    "print(svm_grid_searcher2.best_params_)"
   ]
  },
  {
   "cell_type": "markdown",
   "metadata": {},
   "source": [
    "Нарисуйем график зависимости доли правильных ответов на кросс-валидации от С."
   ]
  },
  {
   "cell_type": "code",
   "execution_count": 156,
   "metadata": {},
   "outputs": [
    {
     "data": {
      "image/png": "[encoded data removed]",
      "text/plain": [
       "<Figure size 432x288 with 1 Axes>"
      ]
     },
     "metadata": {
      "needs_background": "light"
     },
     "output_type": "display_data"
    }
   ],
   "source": [
    "plot_validation_curves(svm_params2['C'], svm_grid_searcher2.cv_results_)"
   ]
  },
  {
   "cell_type": "markdown",
   "metadata": {},
   "source": [
    "Выведием долю правильных ответов на выборке `(X_valid, y_valid)` для `LinearSVC` с лучшим найденным значением `C`."
   ]
  },
  {
   "cell_type": "code",
   "execution_count": 157,
   "metadata": {},
   "outputs": [
    {
     "name": "stdout",
     "output_type": "stream",
     "text": [
      "0.7807537331121118\n"
     ]
    }
   ],
   "source": [
    "svm_cv_acc = accuracy_score(y_valid, svm_grid_searcher2.predict(X_valid))\n",
    "print(svm_cv_acc)"
   ]
  },
  {
   "cell_type": "markdown",
   "metadata": {},
   "source": [
    "## Выбор параметров – длины сессии и ширины окна"
   ]
  },
  {
   "cell_type": "markdown",
   "metadata": {},
   "source": [
    "**Возьмем `LinearSVC`, показавший лучшее качество на кросс-валидации в 1 части, и проверим его работу еще на 8 выборках для 10 пользователей (с разными сочетаниями параметров *session_length* и *window_size*). Поскольку тут уже вычислений побольше, мы не будем каждый раз заново подбирать параметр регуляризации `C`.**\n",
    "\n",
    "**Определим функцию `model_assessment`, ее документация описана ниже.**"
   ]
  },
  {
   "cell_type": "code",
   "execution_count": 159,
   "metadata": {},
   "outputs": [],
   "source": [
    "def model_assessment(estimator, path_to_X_pickle, path_to_y_pickle, cv, random_state=17, test_size=0.3):\n",
    "    '''\n",
    "    Estimates CV-accuracy for (1 - test_size) share of (X_sparse, y) \n",
    "    loaded from path_to_X_pickle and path_to_y_pickle and holdout accuracy for (test_size) share of (X_sparse, y).\n",
    "    The split is made with stratified train_test_split with params random_state and test_size.\n",
    "    \n",
    "    :param estimator – Scikit-learn estimator (classifier or regressor)\n",
    "    :param path_to_X_pickle – path to pickled sparse X (instances and their features)\n",
    "    :param path_to_y_pickle – path to pickled y (responses)\n",
    "    :param cv – cross-validation as in cross_val_score (use StratifiedKFold here)\n",
    "    :param random_state –  for train_test_split\n",
    "    :param test_size –  for train_test_split\n",
    "    \n",
    "    :returns mean CV-accuracy for (X_train, y_train) and accuracy for (X_valid, y_valid) where (X_train, y_train)\n",
    "    and (X_valid, y_valid) are (1 - test_size) and (testsize) shares of (X_sparse, y).\n",
    "    '''\n",
    "    \n",
    "    start_time = time.time()\n",
    "    \n",
    "    X_sprase = pd.read_pickle(path_to_X_pickle)\n",
    "    y_sprase = pd.read_pickle(path_to_y_pickle)\n",
    "\n",
    "    X_train, X_valid, y_train, y_valid = train_test_split(X_sprase, y_sprase, \n",
    "                                                      test_size=test_size,  random_state=random_state,\n",
    "                                                          stratify=y_sprase)\n",
    "    \n",
    "    result_cv = cross_val_score(estimator, X_sprase, y_sprase, cv = skf)\n",
    "    result_cv = np.round(result_cv.mean(),3)\n",
    "    estimator.fit(X_train, y_train)\n",
    "    y_pred = estimator.predict(X_valid)\n",
    "    accuar = np.round(accuracy_score(y_valid, y_pred),3)\n",
    "    \n",
    "    return result_cv, accuar, np.round(time.time() - start_time, 2)"
   ]
  },
  {
   "cell_type": "markdown",
   "metadata": {},
   "source": [
    "**Убедимся, что функция работает.**"
   ]
  },
  {
   "cell_type": "code",
   "execution_count": 160,
   "metadata": {},
   "outputs": [
    {
     "name": "stdout",
     "output_type": "stream",
     "text": [
      "Wall time: 10.7 s\n"
     ]
    },
    {
     "data": {
      "text/plain": [
       "(0.778, 0.781, 10.65)"
      ]
     },
     "execution_count": 160,
     "metadata": {},
     "output_type": "execute_result"
    }
   ],
   "source": [
    "%%time\n",
    "\n",
    "model_assessment(svm_grid_searcher2.best_estimator_, \n",
    "                 os.path.join(PATH_TO_DATA, 'X_sparse_10users.pkl'),\n",
    "        os.path.join(PATH_TO_DATA, 'y_10users.pkl'), skf, random_state=17, test_size=0.3)"
   ]
  },
  {
   "cell_type": "markdown",
   "metadata": {},
   "source": [
    "**Применим функцию *model_assessment* для лучшего алгоритма из предыдущей части (а именно, `svm_grid_searcher2.best_estimator_`) и 9 выборок вида с разными сочетаниями параметров *session_length* и *window_size* для 10 пользователей. Выведем в цикле параметры *session_length* и *window_size*, а также результат вывода функции *model_assessment*. "
   ]
  },
  {
   "cell_type": "code",
   "execution_count": 164,
   "metadata": {},
   "outputs": [
    {
     "name": "stdout",
     "output_type": "stream",
     "text": [
      "window size =  10 session length =  15\n",
      "(0.838, 0.84, 18.05)\n",
      "window size =  10 session length =  10\n",
      "(0.778, 0.781, 10.64)\n",
      "window size =  7 session length =  15\n",
      "(0.859, 0.854, 27.73)\n",
      "window size =  7 session length =  10\n",
      "(0.81, 0.807, 16.28)\n",
      "window size =  7 session length =  7\n",
      "(0.762, 0.762, 10.29)\n",
      "window size =  5 session length =  15\n",
      "(0.879, 0.875, 41.3)\n",
      "window size =  5 session length =  10\n",
      "(0.828, 0.825, 24.74)\n",
      "window size =  5 session length =  7\n",
      "(0.783, 0.785, 15.24)\n",
      "window size =  5 session length =  5\n",
      "(0.736, 0.736, 9.79)\n",
      "Wall time: 2min 54s\n"
     ]
    }
   ],
   "source": [
    "%%time\n",
    "estimator = svm_grid_searcher2.best_estimator_\n",
    "\n",
    "for window_size, session_length in itertools.product([10, 7, 5], [15, 10, 7, 5]):\n",
    "    if window_size <= session_length:\n",
    "        path_to_X_pkl = os.path.join(PATH_TO_DATA, 'X_sparse_10users_s%d_w%d.pkl' % (session_length, window_size))\n",
    "        path_to_y_pkl = os.path.join(PATH_TO_DATA, 'y_sparse_10users_s%d_w%d.pkl' % (session_length, window_size))\n",
    "        print('window size = ', window_size, 'session length = ', session_length)\n",
    "        print(model_assessment(svm_grid_searcher2.best_estimator_, \n",
    "                 path_to_X_pkl, path_to_y_pkl, skf, random_state=17, test_size=0.3))"
   ]
  },
  {
   "cell_type": "markdown",
   "metadata": {},
   "source": [
    "Видно, что при более короткой длине окна и большей длине сессии качество модели улучшается"
   ]
  },
  {
   "cell_type": "markdown",
   "metadata": {},
   "source": [
    "**Сравниим для 150 пользователей доли правильных ответов на кросс-валидации и оставленной выборке для сочетаний параметров (*session_length, window_size*): (5,5), (7,7) и (10,10). **\n"
   ]
  },
  {
   "cell_type": "code",
   "execution_count": 190,
   "metadata": {},
   "outputs": [
    {
     "name": "stdout",
     "output_type": "stream",
     "text": [
      "(0.42, 0.422, 1950.75)\n",
      "(0.451, 0.453, 1603.7)\n",
      "(0.478, 0.484, 1529.03)\n",
      "Wall time: 1h 24min 43s\n"
     ]
    }
   ],
   "source": [
    "%%time\n",
    "estimator = svm_grid_searcher2.best_estimator_\n",
    "\n",
    "for window_size, session_length in [(5,5), (7,7), (10,10)]:\n",
    "    if ((window_size == 10) and (session_length == 10)):\n",
    "            path_to_X_pkl = os.path.join(PATH_TO_DATA, 'X_sparse_150users.pkl')\n",
    "            path_to_y_pkl = os.path.join(PATH_TO_DATA, 'y_150users.pkl')\n",
    "    else:\n",
    "        path_to_X_pkl = os.path.join(PATH_TO_DATA, 'X_sparse_150users_s%d_w%d.pkl' % (session_length, window_size))\n",
    "        path_to_y_pkl = os.path.join(PATH_TO_DATA, 'y_sparse_150users_s%d_w%d.pkl' % (session_length, window_size))\n",
    "    print(model_assessment(svm_grid_searcher2.best_estimator_, \n",
    "                 path_to_X_pkl, path_to_y_pkl, skf, random_state=17, test_size=0.3)) "
   ]
  },
  {
   "cell_type": "markdown",
   "metadata": {},
   "source": [
    "## Идентификация  конкретного пользователя и кривые обучения"
   ]
  },
  {
   "cell_type": "markdown",
   "metadata": {},
   "source": [
    "Видно, что многоклассовая доля правильных ответов невелика. Скорее всего нужно больше данных и признаков для такой задачи. Поэтому давайте попробуем идентифицировать конкретного пользователя."
   ]
  },
  {
   "cell_type": "markdown",
   "metadata": {},
   "source": [
    "**Загрузим сериализованные ранее объекты *X_sparse_150users* и *y_150users*, соответствующие обучающей выборке для 150 пользователей с параметрами (*session_length, window_size*) = (10,10). Так же точно разобьем их на 70% и 30%.**"
   ]
  },
  {
   "cell_type": "code",
   "execution_count": 180,
   "metadata": {},
   "outputs": [],
   "source": [
    "with open(os.path.join(PATH_TO_DATA, 'X_sparse_150users.pkl'), 'rb') as X_sparse_150users_pkl:\n",
    "     X_sparse_150users = pickle.load(X_sparse_150users_pkl)\n",
    "with open(os.path.join(PATH_TO_DATA, 'y_150users.pkl'), 'rb') as y_150users_pkl:\n",
    "    y_150users = pickle.load(y_150users_pkl)"
   ]
  },
  {
   "cell_type": "code",
   "execution_count": 181,
   "metadata": {},
   "outputs": [],
   "source": [
    "X_train_150, X_valid_150, y_train_150, y_valid_150 = train_test_split(X_sparse_150users, \n",
    "                                                                      y_150users, test_size=0.3, \n",
    "                                                     random_state=17, stratify=y_150users)"
   ]
  },
  {
   "cell_type": "markdown",
   "metadata": {},
   "source": [
    "**Обучиим `LogisticRegressionCV` для одного значения параметра `C` (лучшего на кросс-валидации в 1 части) Теперь будем решать 150 задач \"Один-против-Всех\", поэтому укажием аргумент `multi_class`='ovr'.**"
   ]
  },
  {
   "cell_type": "code",
   "execution_count": 187,
   "metadata": {},
   "outputs": [
    {
     "data": {
      "text/plain": [
       "[3333.3334000000004]"
      ]
     },
     "execution_count": 187,
     "metadata": {},
     "output_type": "execute_result"
    }
   ],
   "source": [
    "qr = list()\n",
    "qr.append(svm_grid_searcher1.best_params_['C'].tolist())\n",
    "qr"
   ]
  },
  {
   "cell_type": "code",
   "execution_count": 191,
   "metadata": {},
   "outputs": [
    {
     "name": "stdout",
     "output_type": "stream",
     "text": [
      "Wall time: 56min 32s\n"
     ]
    }
   ],
   "source": [
    "%%time\n",
    "logit_cv_150users = LogisticRegressionCV(Cs = [logit_grid_searcher2.Cs_[10]], multi_class='ovr', cv = skf, random_state=17)\n",
    "logit_cv_150users.fit(X_train_150, y_train_150)"
   ]
  },
  {
   "cell_type": "code",
   "execution_count": 192,
   "metadata": {},
   "outputs": [
    {
     "data": {
      "text/plain": [
       "0.6845153424100793"
      ]
     },
     "execution_count": 192,
     "metadata": {},
     "output_type": "execute_result"
    }
   ],
   "source": [
    "svm_grid_searcher1.best_score_"
   ]
  },
  {
   "cell_type": "code",
   "execution_count": 193,
   "metadata": {},
   "outputs": [
    {
     "data": {
      "text/plain": [
       "{'C': 3333.3334000000004}"
      ]
     },
     "execution_count": 193,
     "metadata": {},
     "output_type": "execute_result"
    }
   ],
   "source": [
    "svm_grid_searcher1.best_params_"
   ]
  },
  {
   "cell_type": "markdown",
   "metadata": {},
   "source": [
    "**Посмотриим на средние доли правильных ответов на кросс-валидации в задаче идентификации каждого пользователя по отдельности.**"
   ]
  },
  {
   "cell_type": "code",
   "execution_count": 198,
   "metadata": {},
   "outputs": [
    {
     "data": {
      "text/plain": [
       "array([0.99607956, 0.9963926 , 0.99526648, 0.99195076, 0.99017877,\n",
       "       0.9942969 , 0.9936505 , 0.98586208, 0.99798786, 0.99527733,\n",
       "       0.99446383, 0.99359829, 0.99685137, 0.99476598, 0.99640301,\n",
       "       0.99629872, 0.99052258, 0.99420333, 0.99455753, 0.99139861,\n",
       "       0.98054496, 0.99693488, 0.99467191, 0.99092908, 0.99661162,\n",
       "       0.99431771, 0.9951209 , 0.99164827, 0.98484048, 0.99700772,\n",
       "       0.99699741, 0.99687207, 0.99734127, 0.9966845 , 0.99692417,\n",
       "       0.99760198, 0.98758277, 0.99640304, 0.99637164, 0.99654902,\n",
       "       0.99018906, 0.98925061, 0.99611109, 0.99570452, 0.99582953,\n",
       "       0.99519327, 0.99609014, 0.99695559, 0.99512064, 0.9964133 ,\n",
       "       0.99186768, 0.99594441, 0.99586081, 0.99477673, 0.9974562 ,\n",
       "       0.98990781, 0.9926181 , 0.99644468, 0.98685274, 0.98936533,\n",
       "       0.99432813, 0.99014709, 0.99571485, 0.99116884, 0.99712229,\n",
       "       0.99568366, 0.99748716, 0.99581899, 0.99642389, 0.99666362,\n",
       "       0.99625722, 0.99707002, 0.99656984, 0.9920865 , 0.99664278,\n",
       "       0.992222  , 0.99771662, 0.99634024, 0.99640316, 0.99124216,\n",
       "       0.99673667, 0.99416143, 0.99629843, 0.99689306, 0.9951518 ,\n",
       "       0.99690358, 0.99791483, 0.9890841 , 0.99696606, 0.99538122,\n",
       "       0.99402583, 0.99378603, 0.98428763, 0.99672614, 0.99566291,\n",
       "       0.99161766, 0.98944908, 0.99834246, 0.99049123, 0.99052287,\n",
       "       0.99405707, 0.98661273, 0.98087817, 0.98113885, 0.9916278 ,\n",
       "       0.99563144, 0.99758106, 0.99722653, 0.99778947, 0.99732038,\n",
       "       0.9951415 , 0.99697653, 0.99664257, 0.99702843, 0.99580835,\n",
       "       0.99658035, 0.99474521, 0.99672625, 0.99677816, 0.9957355 ,\n",
       "       0.99646562, 0.99652816, 0.99686178, 0.99565252, 0.99471414,\n",
       "       0.99694518, 0.99835268, 0.99645529, 0.99591324, 0.99063735,\n",
       "       0.99330624, 0.99729941, 0.99699704, 0.99656984, 0.99775858,\n",
       "       0.99739332, 0.99691389, 0.9934104 , 0.99503722, 0.99650771,\n",
       "       0.99682021, 0.99777941, 0.995819  , 0.99527687, 0.99732052,\n",
       "       0.99578758, 0.99354668, 0.99671573, 0.99605904, 0.99704942])"
      ]
     },
     "execution_count": 198,
     "metadata": {},
     "output_type": "execute_result"
    }
   ],
   "source": [
    "cv_scores_by_user = {}\n",
    "cv_mean_log = np.array([])\n",
    "for user_id in logit_cv_150users.scores_:\n",
    "    #print('User {}, CV score: {}'.format(user_id, logit_cv_150users.scores_[user_id].mean()))\n",
    "    cv_mean_log = np.append(cv_mean_log, logit_cv_150users.scores_[user_id].mean())\n",
    "cv_mean_log"
   ]
  },
  {
   "cell_type": "markdown",
   "metadata": {},
   "source": [
    "**Результаты кажутся впечатляющими, но возможно, мы забываем про дисбаланс классов, и высокую долю правильных ответов можно получить константным прогнозом. Посчитаем для каждого пользователя разницу между долей правильных ответов на кросс-валидации (только что посчитанную с помощью `LogisticRegressionCV`) и долей меток в *y_train_150*, отличных от ID \n",
    " этого пользователя (именно такую долю правильных ответов можно получить, если классификатор всегда \"говорит\", что это не пользователь с номером $i$ в задаче классификации $i$-vs-All).**"
   ]
  },
  {
   "cell_type": "code",
   "execution_count": 204,
   "metadata": {},
   "outputs": [],
   "source": [
    "class_distr = np.bincount(y_train_150.astype('int'))\n",
    "anoter_id_ac = np.array([])\n",
    "\n",
    "anoter_id_ac = (class_distr.sum() - class_distr[1:])/class_distr.sum()\n",
    "    #acc_diff_vs_constant()\n",
    "acc_diff_vs_constant = cv_mean_log - anoter_id_ac"
   ]
  },
  {
   "cell_type": "code",
   "execution_count": null,
   "metadata": {},
   "outputs": [],
   "source": [
    "num_better_than_default = (acc_diff_vs_constant > 0).sum()\n",
    "num_better_than_default"
   ]
  },
  {
   "cell_type": "markdown",
   "metadata": {},
   "source": [
    "0.82"
   ]
  },
  {
   "cell_type": "markdown",
   "metadata": {},
   "source": [
    "**Дальше будем строить кривые обучения для конкретного пользователя, допустим, для 128-го. Составьте новый бинарный вектор на основе *y_150users*, его значения будут 1 или 0 в зависимости от того, равен ли ID-шник пользователя 128.**"
   ]
  },
  {
   "cell_type": "code",
   "execution_count": 207,
   "metadata": {},
   "outputs": [],
   "source": [
    "y_binary_128 = [1 if x == 128 else 0 for x in y_10users]\n",
    "\n",
    "def plot_learning_curve(val_train, val_test, train_sizes, \n",
    "                        xlabel='Training Set Size', ylabel='score'):\n",
    "    def plot_with_err(x, data, **kwargs):\n",
    "        mu, std = data.mean(1), data.std(1)\n",
    "        lines = plt.plot(x, mu, '-', **kwargs)\n",
    "        plt.fill_between(x, mu - std, mu + std, edgecolor='none',\n",
    "                         facecolor=lines[0].get_color(), alpha=0.2)\n",
    "    plot_with_err(train_sizes, val_train, label='train')\n",
    "    plot_with_err(train_sizes, val_test, label='valid')\n",
    "    plt.xlabel(xlabel); plt.ylabel(ylabel)\n",
    "    plt.legend(loc='lower right');"
   ]
  },
  {
   "cell_type": "markdown",
   "metadata": {},
   "source": [
    "**Посчитайем доли правильных ответов на кросс-валидации в задаче классификации \"user128-vs-All\" в зависимости от размера выборки.**"
   ]
  },
  {
   "cell_type": "code",
   "execution_count": 208,
   "metadata": {},
   "outputs": [
    {
     "name": "stdout",
     "output_type": "stream",
     "text": [
      "Wall time: 31min 59s\n"
     ]
    },
    {
     "data": {
      "image/png": "[encoded data removed]",
      "text/plain": [
       "<Figure size 432x288 with 1 Axes>"
      ]
     },
     "metadata": {
      "needs_background": "light"
     },
     "output_type": "display_data"
    }
   ],
   "source": [
    "%%time\n",
    "estimator = svm_grid_searcher2.best_estimator_\n",
    "n_train, val_train, val_test = learning_curve(estimator, X_train_150, y_train_150, cv = skf, random_state=17)\n",
    "plot_learning_curve(val_train, val_test, n_train, \n",
    "                    xlabel='train_size', ylabel='accuracy')"
   ]
  },
  {
   "cell_type": "markdown",
   "metadata": {},
   "source": [
    "## Вывод\n",
    "По получившимся результатам видно, что классифицировать пользователя не удается. Но если мы пытаемся идентифицировать конкретного пользователя среди всех, то тут результат гораздо лучше\n",
    "\n",
    "Данную можель можно применить у интернет провайдеров для определения конкретных пользователей. При этом мы должны иметь уже начальные знания об этом пользователе.\n",
    "\n",
    "По итогу мы подготовили даннные, разбили выборки на сессии. Сделали разреженные матрицы и проверили несколько гипотез о нормальности распределения выборки. Для десяти пользователей провели визуальный анализ и выяснили,что самый популярный сайт, это youtube. А также заметили, как разнятся распределения для всех пользователей, например, по дневной активности. Затем построили несколько моделей по классификации пользователей по сессиям. Логистическая регрессия показала самый лучший результат. Но даже для нее на валидной выборке видно, что качество модели низкое. А вот если мы решаем задачу выделения пользователей среди други, то здесь мы получаем хороший результат для модели."
   ]
  }
 ],
 "metadata": {
  "kernelspec": {
   "display_name": "Python 3",
   "language": "python",
   "name": "python3"
  },
  "language_info": {
   "codemirror_mode": {
    "name": "ipython",
    "version": 3
   },
   "file_extension": ".py",
   "mimetype": "text/x-python",
   "name": "python",
   "nbconvert_exporter": "python",
   "pygments_lexer": "ipython3",
   "version": "3.7.1"
  }
 },
 "nbformat": 4,
 "nbformat_minor": 2
}
